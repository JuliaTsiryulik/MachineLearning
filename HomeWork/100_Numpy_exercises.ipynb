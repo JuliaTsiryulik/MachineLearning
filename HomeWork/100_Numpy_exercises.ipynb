{
  "metadata": {
    "language_info": {
      "codemirror_mode": {
        "name": "python",
        "version": 3
      },
      "file_extension": ".py",
      "mimetype": "text/x-python",
      "name": "python",
      "nbconvert_exporter": "python",
      "pygments_lexer": "ipython3",
      "version": "3.8"
    },
    "kernelspec": {
      "name": "python",
      "display_name": "Python (Pyodide)",
      "language": "python"
    },
    "colab": {
      "provenance": []
    }
  },
  "nbformat_minor": 5,
  "nbformat": 4,
  "cells": [
    {
      "cell_type": "markdown",
      "source": [
        "# 100 numpy exercises\n",
        "\n",
        "This is a collection of exercises that have been collected in the numpy mailing list, on stack overflow\n",
        "and in the numpy documentation. The goal of this collection is to offer a quick reference for both old\n",
        "and new users but also to provide a set of exercises for those who teach.\n",
        "\n",
        "\n",
        "If you find an error or think you've a better way to solve some of them, feel\n",
        "free to open an issue at <https://github.com/rougier/numpy-100>."
      ],
      "metadata": {
        "id": "f44a2f2b"
      },
      "id": "f44a2f2b"
    },
    {
      "cell_type": "markdown",
      "source": [
        "File automatically generated. See the documentation to update questions/answers/hints programmatically."
      ],
      "metadata": {
        "id": "0fe3d529"
      },
      "id": "0fe3d529"
    },
    {
      "cell_type": "markdown",
      "source": [
        "Run the `initialize.py` module, then for each question you can query the\n",
        "answer or an hint with `hint(n)` or `answer(n)` for `n` question number."
      ],
      "metadata": {
        "id": "23296a93"
      },
      "id": "23296a93"
    },
    {
      "cell_type": "code",
      "source": [
        "%run initialise.py"
      ],
      "metadata": {
        "trusted": true,
        "id": "530390cf",
        "outputId": "bc08ce91-fe43-42f4-db4b-3f50a8b25a5e"
      },
      "execution_count": null,
      "outputs": [
        {
          "ename": "<class 'Exception'>",
          "evalue": "File `'initialise.py'` not found.",
          "traceback": [
            "\u001b[0;31m---------------------------------------------------------------------------\u001b[0m",
            "\u001b[0;31mOSError\u001b[0m                                   Traceback (most recent call last)",
            "File \u001b[0;32m/lib/python3.10/site-packages/IPython/core/magics/execution.py:696\u001b[0m, in \u001b[0;36mExecutionMagics.run\u001b[0;34m(self, parameter_s, runner, file_finder)\u001b[0m\n\u001b[1;32m    695\u001b[0m     fpath \u001b[38;5;241m=\u001b[39m arg_lst[\u001b[38;5;241m0\u001b[39m]\n\u001b[0;32m--> 696\u001b[0m     filename \u001b[38;5;241m=\u001b[39m \u001b[43mfile_finder\u001b[49m\u001b[43m(\u001b[49m\u001b[43mfpath\u001b[49m\u001b[43m)\u001b[49m\n\u001b[1;32m    697\u001b[0m \u001b[38;5;28;01mexcept\u001b[39;00m \u001b[38;5;167;01mIndexError\u001b[39;00m \u001b[38;5;28;01mas\u001b[39;00m e:\n",
            "File \u001b[0;32m/lib/python3.10/site-packages/IPython/utils/path.py:92\u001b[0m, in \u001b[0;36mget_py_filename\u001b[0;34m(name)\u001b[0m\n\u001b[1;32m     91\u001b[0m         \u001b[38;5;28;01mreturn\u001b[39;00m py_name\n\u001b[0;32m---> 92\u001b[0m \u001b[38;5;28;01mraise\u001b[39;00m \u001b[38;5;167;01mIOError\u001b[39;00m(\u001b[38;5;124m\"\u001b[39m\u001b[38;5;124mFile `\u001b[39m\u001b[38;5;132;01m%r\u001b[39;00m\u001b[38;5;124m` not found.\u001b[39m\u001b[38;5;124m\"\u001b[39m \u001b[38;5;241m%\u001b[39m name)\n",
            "\u001b[0;31mOSError\u001b[0m: File `'initialise.py'` not found.",
            "\nThe above exception was the direct cause of the following exception:\n",
            "\u001b[0;31mException\u001b[0m                                 Traceback (most recent call last)",
            "Cell \u001b[0;32mIn [2], line 1\u001b[0m\n\u001b[0;32m----> 1\u001b[0m \u001b[43mget_ipython\u001b[49m\u001b[43m(\u001b[49m\u001b[43m)\u001b[49m\u001b[38;5;241;43m.\u001b[39;49m\u001b[43mrun_line_magic\u001b[49m\u001b[43m(\u001b[49m\u001b[38;5;124;43m'\u001b[39;49m\u001b[38;5;124;43mrun\u001b[39;49m\u001b[38;5;124;43m'\u001b[39;49m\u001b[43m,\u001b[49m\u001b[43m \u001b[49m\u001b[38;5;124;43m'\u001b[39;49m\u001b[38;5;124;43minitialise.py\u001b[39;49m\u001b[38;5;124;43m'\u001b[39;49m\u001b[43m)\u001b[49m\n",
            "File \u001b[0;32m/lib/python3.10/site-packages/IPython/core/interactiveshell.py:2309\u001b[0m, in \u001b[0;36mInteractiveShell.run_line_magic\u001b[0;34m(self, magic_name, line, _stack_depth)\u001b[0m\n\u001b[1;32m   2307\u001b[0m     kwargs[\u001b[38;5;124m'\u001b[39m\u001b[38;5;124mlocal_ns\u001b[39m\u001b[38;5;124m'\u001b[39m] \u001b[38;5;241m=\u001b[39m \u001b[38;5;28mself\u001b[39m\u001b[38;5;241m.\u001b[39mget_local_scope(stack_depth)\n\u001b[1;32m   2308\u001b[0m \u001b[38;5;28;01mwith\u001b[39;00m \u001b[38;5;28mself\u001b[39m\u001b[38;5;241m.\u001b[39mbuiltin_trap:\n\u001b[0;32m-> 2309\u001b[0m     result \u001b[38;5;241m=\u001b[39m fn(\u001b[38;5;241m*\u001b[39margs, \u001b[38;5;241m*\u001b[39m\u001b[38;5;241m*\u001b[39mkwargs)\n\u001b[1;32m   2310\u001b[0m \u001b[38;5;28;01mreturn\u001b[39;00m result\n",
            "File \u001b[0;32m/lib/python3.10/site-packages/IPython/core/magics/execution.py:707\u001b[0m, in \u001b[0;36mExecutionMagics.run\u001b[0;34m(self, parameter_s, runner, file_finder)\u001b[0m\n\u001b[1;32m    705\u001b[0m     \u001b[38;5;28;01mif\u001b[39;00m os\u001b[38;5;241m.\u001b[39mname \u001b[38;5;241m==\u001b[39m \u001b[38;5;124m'\u001b[39m\u001b[38;5;124mnt\u001b[39m\u001b[38;5;124m'\u001b[39m \u001b[38;5;129;01mand\u001b[39;00m re\u001b[38;5;241m.\u001b[39mmatch(\u001b[38;5;124mr\u001b[39m\u001b[38;5;124m\"\u001b[39m\u001b[38;5;124m^\u001b[39m\u001b[38;5;124m'\u001b[39m\u001b[38;5;124m.*\u001b[39m\u001b[38;5;124m'\u001b[39m\u001b[38;5;124m$\u001b[39m\u001b[38;5;124m\"\u001b[39m,fpath):\n\u001b[1;32m    706\u001b[0m         warn(\u001b[38;5;124m'\u001b[39m\u001b[38;5;124mFor Windows, use double quotes to wrap a filename: \u001b[39m\u001b[38;5;132;01m%r\u001b[39;00m\u001b[38;5;124mun \u001b[39m\u001b[38;5;124m\"\u001b[39m\u001b[38;5;124mmypath\u001b[39m\u001b[38;5;130;01m\\\\\u001b[39;00m\u001b[38;5;124mmyfile.py\u001b[39m\u001b[38;5;124m\"\u001b[39m\u001b[38;5;124m'\u001b[39m)\n\u001b[0;32m--> 707\u001b[0m     \u001b[38;5;28;01mraise\u001b[39;00m \u001b[38;5;167;01mException\u001b[39;00m(msg) \u001b[38;5;28;01mfrom\u001b[39;00m \u001b[38;5;21;01me\u001b[39;00m\n\u001b[1;32m    708\u001b[0m \u001b[38;5;28;01mexcept\u001b[39;00m \u001b[38;5;167;01mTypeError\u001b[39;00m:\n\u001b[1;32m    709\u001b[0m     \u001b[38;5;28;01mif\u001b[39;00m fpath \u001b[38;5;129;01min\u001b[39;00m sys\u001b[38;5;241m.\u001b[39mmeta_path:\n",
            "\u001b[0;31mException\u001b[0m: File `'initialise.py'` not found."
          ],
          "output_type": "error"
        }
      ],
      "id": "530390cf"
    },
    {
      "cell_type": "markdown",
      "source": [
        "#### 1. Import the numpy package under the name `np` (★☆☆)"
      ],
      "metadata": {
        "id": "96443564"
      },
      "id": "96443564"
    },
    {
      "cell_type": "code",
      "source": [
        "import numpy as np"
      ],
      "metadata": {
        "trusted": true,
        "id": "ffe1047e"
      },
      "execution_count": 1,
      "outputs": [],
      "id": "ffe1047e"
    },
    {
      "cell_type": "markdown",
      "source": [
        "#### 2. Print the numpy version and the configuration (★☆☆)"
      ],
      "metadata": {
        "id": "c807bf1d"
      },
      "id": "c807bf1d"
    },
    {
      "cell_type": "code",
      "source": [
        "np.__version__\n",
        "np.version.version"
      ],
      "metadata": {
        "trusted": true,
        "colab": {
          "base_uri": "https://localhost:8080/",
          "height": 35
        },
        "id": "f396b717",
        "outputId": "c7003e18-8222-494b-ea27-bc6019056e28"
      },
      "execution_count": 2,
      "outputs": [
        {
          "output_type": "execute_result",
          "data": {
            "text/plain": [
              "'1.21.6'"
            ],
            "application/vnd.google.colaboratory.intrinsic+json": {
              "type": "string"
            }
          },
          "metadata": {},
          "execution_count": 2
        }
      ],
      "id": "f396b717"
    },
    {
      "cell_type": "markdown",
      "source": [
        "#### 3. Create a null vector of size 10 (★☆☆)"
      ],
      "metadata": {
        "id": "572c1bdb"
      },
      "id": "572c1bdb"
    },
    {
      "cell_type": "code",
      "source": [
        "np.zeros(10)"
      ],
      "metadata": {
        "trusted": true,
        "colab": {
          "base_uri": "https://localhost:8080/"
        },
        "id": "31c9f6a5",
        "outputId": "6077546b-29bc-43b7-8f61-4fdf1f299a0f"
      },
      "execution_count": 3,
      "outputs": [
        {
          "output_type": "execute_result",
          "data": {
            "text/plain": [
              "array([0., 0., 0., 0., 0., 0., 0., 0., 0., 0.])"
            ]
          },
          "metadata": {},
          "execution_count": 3
        }
      ],
      "id": "31c9f6a5"
    },
    {
      "cell_type": "markdown",
      "source": [
        "#### 4. How to find the memory size of any array (★☆☆)"
      ],
      "metadata": {
        "id": "337e6e36"
      },
      "id": "337e6e36"
    },
    {
      "cell_type": "code",
      "source": [
        "arr = np.zeros((10,10))\n",
        "print(\"%d bytes\" % (arr.size * arr.itemsize))"
      ],
      "metadata": {
        "trusted": true,
        "colab": {
          "base_uri": "https://localhost:8080/"
        },
        "id": "31e8ec2e",
        "outputId": "b27f355c-2dcc-4208-dd8c-5c8d1f0d2a1b"
      },
      "execution_count": 4,
      "outputs": [
        {
          "output_type": "stream",
          "name": "stdout",
          "text": [
            "800 bytes\n"
          ]
        }
      ],
      "id": "31e8ec2e"
    },
    {
      "cell_type": "markdown",
      "source": [
        "#### 5. How to get the documentation of the numpy add function from the command line? (★☆☆)"
      ],
      "metadata": {
        "id": "166079c8"
      },
      "id": "166079c8"
    },
    {
      "cell_type": "code",
      "source": [
        "%run python -c \"import numpy; numpy.info(numpy.add)\""
      ],
      "metadata": {
        "trusted": true,
        "colab": {
          "base_uri": "https://localhost:8080/"
        },
        "id": "593cd80f",
        "outputId": "06bdb6c9-24bb-4ed1-9eaa-2ec87b7099f6"
      },
      "execution_count": 6,
      "outputs": [
        {
          "output_type": "stream",
          "name": "stderr",
          "text": [
            "ERROR:root:File `'python.py'` not found.\n"
          ]
        }
      ],
      "id": "593cd80f"
    },
    {
      "cell_type": "markdown",
      "source": [
        "#### 6. Create a null vector of size 10 but the fifth value which is 1 (★☆☆)"
      ],
      "metadata": {
        "id": "3add7101"
      },
      "id": "3add7101"
    },
    {
      "cell_type": "code",
      "source": [
        "arr = np.zeros(10)\n",
        "arr[4] = 1\n",
        "print(arr)"
      ],
      "metadata": {
        "trusted": true,
        "colab": {
          "base_uri": "https://localhost:8080/"
        },
        "id": "2edf3c42",
        "outputId": "4f7fa701-6c42-4caf-9f45-9cd6c90827fd"
      },
      "execution_count": 5,
      "outputs": [
        {
          "output_type": "stream",
          "name": "stdout",
          "text": [
            "[0. 0. 0. 0. 1. 0. 0. 0. 0. 0.]\n"
          ]
        }
      ],
      "id": "2edf3c42"
    },
    {
      "cell_type": "markdown",
      "source": [
        "#### 7. Create a vector with values ranging from 10 to 49 (★☆☆)"
      ],
      "metadata": {
        "id": "cfc46304"
      },
      "id": "cfc46304"
    },
    {
      "cell_type": "code",
      "source": [
        "np.arange(10, 50)"
      ],
      "metadata": {
        "trusted": true,
        "colab": {
          "base_uri": "https://localhost:8080/"
        },
        "id": "d8b86640",
        "outputId": "bea28a6a-28e6-4eac-c606-91f3a10a5d9b"
      },
      "execution_count": 7,
      "outputs": [
        {
          "output_type": "execute_result",
          "data": {
            "text/plain": [
              "array([10, 11, 12, 13, 14, 15, 16, 17, 18, 19, 20, 21, 22, 23, 24, 25, 26,\n",
              "       27, 28, 29, 30, 31, 32, 33, 34, 35, 36, 37, 38, 39, 40, 41, 42, 43,\n",
              "       44, 45, 46, 47, 48, 49])"
            ]
          },
          "metadata": {},
          "execution_count": 7
        }
      ],
      "id": "d8b86640"
    },
    {
      "cell_type": "markdown",
      "source": [
        "#### 8. Reverse a vector (first element becomes last) (★☆☆)"
      ],
      "metadata": {
        "id": "0cc200be"
      },
      "id": "0cc200be"
    },
    {
      "cell_type": "code",
      "source": [
        "arr = np.arange(10, 50)\n",
        "print(arr[::-1])"
      ],
      "metadata": {
        "trusted": true,
        "colab": {
          "base_uri": "https://localhost:8080/"
        },
        "id": "ec044bb5",
        "outputId": "dd0d2689-8716-4aa0-e6a2-59995eb8dd0a"
      },
      "execution_count": 8,
      "outputs": [
        {
          "output_type": "stream",
          "name": "stdout",
          "text": [
            "[49 48 47 46 45 44 43 42 41 40 39 38 37 36 35 34 33 32 31 30 29 28 27 26\n",
            " 25 24 23 22 21 20 19 18 17 16 15 14 13 12 11 10]\n"
          ]
        }
      ],
      "id": "ec044bb5"
    },
    {
      "cell_type": "markdown",
      "source": [
        "#### 9. Create a 3x3 matrix with values ranging from 0 to 8 (★☆☆)"
      ],
      "metadata": {
        "id": "29d9ede4"
      },
      "id": "29d9ede4"
    },
    {
      "cell_type": "code",
      "source": [
        "arr = np.arange(9).reshape(3, 3)\n",
        "print(arr)"
      ],
      "metadata": {
        "trusted": true,
        "colab": {
          "base_uri": "https://localhost:8080/"
        },
        "id": "d9e39043",
        "outputId": "7e8d7054-31d4-4924-b654-d61a1d0dafcc"
      },
      "execution_count": 9,
      "outputs": [
        {
          "output_type": "stream",
          "name": "stdout",
          "text": [
            "[[0 1 2]\n",
            " [3 4 5]\n",
            " [6 7 8]]\n"
          ]
        }
      ],
      "id": "d9e39043"
    },
    {
      "cell_type": "markdown",
      "source": [
        "#### 10. Find indices of non-zero elements from [1,2,0,0,4,0] (★☆☆)"
      ],
      "metadata": {
        "id": "88905ceb"
      },
      "id": "88905ceb"
    },
    {
      "cell_type": "code",
      "source": [
        "arr = [1, 2, 0, 0, 4, 0]\n",
        "\n",
        "for i, elem in enumerate(arr):\n",
        "    if elem != 0:\n",
        "        print(i)\n",
        "\n",
        "#Another version        \n",
        "nz = np.nonzero([1,2,0,0,4,0])\n",
        "print(nz)"
      ],
      "metadata": {
        "colab": {
          "base_uri": "https://localhost:8080/"
        },
        "id": "mXcqhD9MYOzX",
        "outputId": "c25238c6-2fd9-4c91-a549-7ea244fd1f44"
      },
      "id": "mXcqhD9MYOzX",
      "execution_count": 13,
      "outputs": [
        {
          "output_type": "stream",
          "name": "stdout",
          "text": [
            "0\n",
            "1\n",
            "4\n",
            "(array([0, 1, 4]),)\n"
          ]
        }
      ]
    },
    {
      "cell_type": "markdown",
      "source": [
        "#### 11. Create a 3x3 identity matrix (★☆☆)"
      ],
      "metadata": {
        "id": "49603e91"
      },
      "id": "49603e91"
    },
    {
      "cell_type": "code",
      "source": [
        "print(np.eye(3, 3))"
      ],
      "metadata": {
        "trusted": true,
        "colab": {
          "base_uri": "https://localhost:8080/"
        },
        "id": "1ce4e912-4ed5-4509-a50f-d1ac9280df13",
        "outputId": "681a9d24-4d48-42c8-b2ba-f3939ffd209f"
      },
      "execution_count": 14,
      "outputs": [
        {
          "output_type": "stream",
          "name": "stdout",
          "text": [
            "[[1. 0. 0.]\n",
            " [0. 1. 0.]\n",
            " [0. 0. 1.]]\n"
          ]
        }
      ],
      "id": "1ce4e912-4ed5-4509-a50f-d1ac9280df13"
    },
    {
      "cell_type": "markdown",
      "source": [
        "#### 11. Create a 3x3 identity matrix (★☆☆)"
      ],
      "metadata": {
        "id": "93467bc6-317b-412a-bd88-c2e9dcde227d"
      },
      "id": "93467bc6-317b-412a-bd88-c2e9dcde227d"
    },
    {
      "cell_type": "code",
      "source": [
        "print(np.eye(3, 3))"
      ],
      "metadata": {
        "trusted": true,
        "colab": {
          "base_uri": "https://localhost:8080/"
        },
        "id": "5b607b5c",
        "outputId": "8ecb9d8a-6e28-4f76-a7a4-66c45c4f0415"
      },
      "execution_count": 15,
      "outputs": [
        {
          "output_type": "stream",
          "name": "stdout",
          "text": [
            "[[1. 0. 0.]\n",
            " [0. 1. 0.]\n",
            " [0. 0. 1.]]\n"
          ]
        }
      ],
      "id": "5b607b5c"
    },
    {
      "cell_type": "markdown",
      "source": [
        "#### 12. Create a 3x3x3 array with random values (★☆☆)"
      ],
      "metadata": {
        "id": "e15c249a"
      },
      "id": "e15c249a"
    },
    {
      "cell_type": "code",
      "source": [
        "print(np.random.random((3, 3, 3)))"
      ],
      "metadata": {
        "trusted": true,
        "colab": {
          "base_uri": "https://localhost:8080/"
        },
        "id": "ab21ed50",
        "outputId": "137862b5-eb6d-427b-87ae-f4187caa848b"
      },
      "execution_count": 16,
      "outputs": [
        {
          "output_type": "stream",
          "name": "stdout",
          "text": [
            "[[[0.44283246 0.57807585 0.78932167]\n",
            "  [0.80496297 0.29425217 0.99474088]\n",
            "  [0.97536704 0.18618412 0.18500002]]\n",
            "\n",
            " [[0.63701992 0.27111652 0.67124874]\n",
            "  [0.09261169 0.22636733 0.29502398]\n",
            "  [0.16170636 0.41554107 0.82045892]]\n",
            "\n",
            " [[0.56507854 0.83742686 0.06976537]\n",
            "  [0.10190825 0.25084166 0.60919332]\n",
            "  [0.18241356 0.26127314 0.01709852]]]\n"
          ]
        }
      ],
      "id": "ab21ed50"
    },
    {
      "cell_type": "markdown",
      "source": [
        "#### 13. Create a 10x10 array with random values and find the minimum and maximum values (★☆☆)"
      ],
      "metadata": {
        "id": "157a129c"
      },
      "id": "157a129c"
    },
    {
      "cell_type": "code",
      "source": [
        "arr = np.random.random((10, 10))\n",
        "print(arr.min())\n",
        "print(arr.max())"
      ],
      "metadata": {
        "trusted": true,
        "colab": {
          "base_uri": "https://localhost:8080/"
        },
        "id": "c0066de5",
        "outputId": "8f294582-862d-468b-a67f-33c7747b108d"
      },
      "execution_count": 17,
      "outputs": [
        {
          "output_type": "stream",
          "name": "stdout",
          "text": [
            "0.011802793524335775\n",
            "0.9565771856057219\n"
          ]
        }
      ],
      "id": "c0066de5"
    },
    {
      "cell_type": "markdown",
      "source": [
        "#### 14. Create a random vector of size 30 and find the mean value (★☆☆)"
      ],
      "metadata": {
        "id": "d92d7b32"
      },
      "id": "d92d7b32"
    },
    {
      "cell_type": "code",
      "source": [
        "arr = np.random.random(30)\n",
        "print(arr.mean())"
      ],
      "metadata": {
        "trusted": true,
        "colab": {
          "base_uri": "https://localhost:8080/"
        },
        "id": "9672d023",
        "outputId": "466f4318-5266-4f4d-a278-23aa06fb43e4"
      },
      "execution_count": 18,
      "outputs": [
        {
          "output_type": "stream",
          "name": "stdout",
          "text": [
            "0.49698540872613256\n"
          ]
        }
      ],
      "id": "9672d023"
    },
    {
      "cell_type": "markdown",
      "source": [
        "#### 15. Create a 2d array with 1 on the border and 0 inside (★☆☆)"
      ],
      "metadata": {
        "id": "f361efc0"
      },
      "id": "f361efc0"
    },
    {
      "cell_type": "code",
      "source": [
        "arr = np.ones((10, 10))\n",
        "arr[1:-1, 1:-1] = 0\n",
        "print(arr)"
      ],
      "metadata": {
        "trusted": true,
        "colab": {
          "base_uri": "https://localhost:8080/"
        },
        "id": "a55b6666",
        "outputId": "5922733f-fe74-47c5-8653-c9a33cc3dda8"
      },
      "execution_count": 19,
      "outputs": [
        {
          "output_type": "stream",
          "name": "stdout",
          "text": [
            "[[1. 1. 1. 1. 1. 1. 1. 1. 1. 1.]\n",
            " [1. 0. 0. 0. 0. 0. 0. 0. 0. 1.]\n",
            " [1. 0. 0. 0. 0. 0. 0. 0. 0. 1.]\n",
            " [1. 0. 0. 0. 0. 0. 0. 0. 0. 1.]\n",
            " [1. 0. 0. 0. 0. 0. 0. 0. 0. 1.]\n",
            " [1. 0. 0. 0. 0. 0. 0. 0. 0. 1.]\n",
            " [1. 0. 0. 0. 0. 0. 0. 0. 0. 1.]\n",
            " [1. 0. 0. 0. 0. 0. 0. 0. 0. 1.]\n",
            " [1. 0. 0. 0. 0. 0. 0. 0. 0. 1.]\n",
            " [1. 1. 1. 1. 1. 1. 1. 1. 1. 1.]]\n"
          ]
        }
      ],
      "id": "a55b6666"
    },
    {
      "cell_type": "markdown",
      "source": [
        "#### 16. How to add a border (filled with 0's) around an existing array? (★☆☆)"
      ],
      "metadata": {
        "id": "475808cb"
      },
      "id": "475808cb"
    },
    {
      "cell_type": "code",
      "source": [
        "arr = np.ones((10, 10))\n",
        "arr = np.pad(arr, pad_width = 1, mode = 'constant', constant_values = 0)\n",
        "print(arr)"
      ],
      "metadata": {
        "trusted": true,
        "colab": {
          "base_uri": "https://localhost:8080/"
        },
        "id": "b2df3a8a",
        "outputId": "8b08ea9c-9135-43d6-8d15-00ead135f07e"
      },
      "execution_count": 20,
      "outputs": [
        {
          "output_type": "stream",
          "name": "stdout",
          "text": [
            "[[0. 0. 0. 0. 0. 0. 0. 0. 0. 0. 0. 0.]\n",
            " [0. 1. 1. 1. 1. 1. 1. 1. 1. 1. 1. 0.]\n",
            " [0. 1. 1. 1. 1. 1. 1. 1. 1. 1. 1. 0.]\n",
            " [0. 1. 1. 1. 1. 1. 1. 1. 1. 1. 1. 0.]\n",
            " [0. 1. 1. 1. 1. 1. 1. 1. 1. 1. 1. 0.]\n",
            " [0. 1. 1. 1. 1. 1. 1. 1. 1. 1. 1. 0.]\n",
            " [0. 1. 1. 1. 1. 1. 1. 1. 1. 1. 1. 0.]\n",
            " [0. 1. 1. 1. 1. 1. 1. 1. 1. 1. 1. 0.]\n",
            " [0. 1. 1. 1. 1. 1. 1. 1. 1. 1. 1. 0.]\n",
            " [0. 1. 1. 1. 1. 1. 1. 1. 1. 1. 1. 0.]\n",
            " [0. 1. 1. 1. 1. 1. 1. 1. 1. 1. 1. 0.]\n",
            " [0. 0. 0. 0. 0. 0. 0. 0. 0. 0. 0. 0.]]\n"
          ]
        }
      ],
      "id": "b2df3a8a"
    },
    {
      "cell_type": "code",
      "source": [
        "arr = np.ones((10, 10))\n",
        "\n",
        "arr[:, [0, -1]] = 0\n",
        "arr[[0, -1], :] = 0\n",
        "print(arr)"
      ],
      "metadata": {
        "trusted": true,
        "colab": {
          "base_uri": "https://localhost:8080/"
        },
        "id": "6127b6d9-220e-41e9-80b2-4092edcf85e6",
        "outputId": "70bd3ad6-9e89-4348-fff8-5b68223dec8d"
      },
      "execution_count": 21,
      "outputs": [
        {
          "output_type": "stream",
          "name": "stdout",
          "text": [
            "[[0. 0. 0. 0. 0. 0. 0. 0. 0. 0.]\n",
            " [0. 1. 1. 1. 1. 1. 1. 1. 1. 0.]\n",
            " [0. 1. 1. 1. 1. 1. 1. 1. 1. 0.]\n",
            " [0. 1. 1. 1. 1. 1. 1. 1. 1. 0.]\n",
            " [0. 1. 1. 1. 1. 1. 1. 1. 1. 0.]\n",
            " [0. 1. 1. 1. 1. 1. 1. 1. 1. 0.]\n",
            " [0. 1. 1. 1. 1. 1. 1. 1. 1. 0.]\n",
            " [0. 1. 1. 1. 1. 1. 1. 1. 1. 0.]\n",
            " [0. 1. 1. 1. 1. 1. 1. 1. 1. 0.]\n",
            " [0. 0. 0. 0. 0. 0. 0. 0. 0. 0.]]\n"
          ]
        }
      ],
      "id": "6127b6d9-220e-41e9-80b2-4092edcf85e6"
    },
    {
      "cell_type": "markdown",
      "source": [
        "#### 17. What is the result of the following expression? (★☆☆)\n",
        "```python\n",
        "0 * np.nan\n",
        "np.nan == np.nan\n",
        "np.inf > np.nan\n",
        "np.nan - np.nan\n",
        "np.nan in set([np.nan])\n",
        "0.3 == 3 * 0.1\n",
        "```"
      ],
      "metadata": {
        "id": "1af07d85"
      },
      "id": "1af07d85"
    },
    {
      "cell_type": "code",
      "source": [
        "print(0 * np.nan) #nan ++\n",
        "print(np.nan == np.nan) #true --\n",
        "print(np.inf > np.nan) #false ++\n",
        "print(np.nan - np.nan) #nan ++\n",
        "print(np.nan in set([np.nan])) #nan --\n",
        "print(0.3 == 3 * 0.1) #false ++"
      ],
      "metadata": {
        "trusted": true,
        "colab": {
          "base_uri": "https://localhost:8080/"
        },
        "id": "109cf327",
        "outputId": "ec5a9593-9a26-456e-c490-3621ca0fb757"
      },
      "execution_count": 24,
      "outputs": [
        {
          "output_type": "stream",
          "name": "stdout",
          "text": [
            "nan\n",
            "False\n",
            "False\n",
            "nan\n",
            "True\n",
            "False\n"
          ]
        }
      ],
      "id": "109cf327"
    },
    {
      "cell_type": "markdown",
      "source": [
        "#### 18. Create a 5x5 matrix with values 1,2,3,4 just below the diagonal (★☆☆)"
      ],
      "metadata": {
        "id": "6a235316"
      },
      "id": "6a235316"
    },
    {
      "cell_type": "code",
      "source": [
        "arr = np.zeros((5, 5))\n",
        "for i in range(len(arr)):\n",
        "    for j in range(len(arr)):\n",
        "        if i == j:\n",
        "            arr[i][j - 1] = i\n",
        "print(arr)"
      ],
      "metadata": {
        "trusted": true,
        "colab": {
          "base_uri": "https://localhost:8080/"
        },
        "id": "f2e6cfa6",
        "outputId": "92c9c05b-61de-4f06-fa58-8c64ba8d9988"
      },
      "execution_count": 25,
      "outputs": [
        {
          "output_type": "stream",
          "name": "stdout",
          "text": [
            "[[0. 0. 0. 0. 0.]\n",
            " [1. 0. 0. 0. 0.]\n",
            " [0. 2. 0. 0. 0.]\n",
            " [0. 0. 3. 0. 0.]\n",
            " [0. 0. 0. 4. 0.]]\n"
          ]
        }
      ],
      "id": "f2e6cfa6"
    },
    {
      "cell_type": "code",
      "source": [
        "Z = np.diag(1 + np.arange(4), k = -1)\n",
        "print(Z)"
      ],
      "metadata": {
        "trusted": true,
        "colab": {
          "base_uri": "https://localhost:8080/"
        },
        "id": "e8209529-cfd7-49a1-a83a-5b029553f238",
        "outputId": "30976b3b-161b-4f3d-9278-56a6bbfeb27c"
      },
      "execution_count": 26,
      "outputs": [
        {
          "output_type": "stream",
          "name": "stdout",
          "text": [
            "[[0 0 0 0 0]\n",
            " [1 0 0 0 0]\n",
            " [0 2 0 0 0]\n",
            " [0 0 3 0 0]\n",
            " [0 0 0 4 0]]\n"
          ]
        }
      ],
      "id": "e8209529-cfd7-49a1-a83a-5b029553f238"
    },
    {
      "cell_type": "markdown",
      "source": [
        "#### 19. Create a 8x8 matrix and fill it with a checkerboard pattern (★☆☆)"
      ],
      "metadata": {
        "id": "25362e98"
      },
      "id": "25362e98"
    },
    {
      "cell_type": "code",
      "source": [
        "arr = np.zeros((8, 8), dtype = int)\n",
        "\n",
        "arr[1::2, ::2] = 1\n",
        "arr[::2, 1::2] = 1\n",
        "\n",
        "print(arr)"
      ],
      "metadata": {
        "trusted": true,
        "colab": {
          "base_uri": "https://localhost:8080/"
        },
        "id": "cabdf298",
        "outputId": "7a4bf201-8fe5-478c-db07-1bbe16703007"
      },
      "execution_count": 27,
      "outputs": [
        {
          "output_type": "stream",
          "name": "stdout",
          "text": [
            "[[0 1 0 1 0 1 0 1]\n",
            " [1 0 1 0 1 0 1 0]\n",
            " [0 1 0 1 0 1 0 1]\n",
            " [1 0 1 0 1 0 1 0]\n",
            " [0 1 0 1 0 1 0 1]\n",
            " [1 0 1 0 1 0 1 0]\n",
            " [0 1 0 1 0 1 0 1]\n",
            " [1 0 1 0 1 0 1 0]]\n"
          ]
        }
      ],
      "id": "cabdf298"
    },
    {
      "cell_type": "markdown",
      "source": [
        "#### 20. Consider a (6,7,8) shape array, what is the index (x,y,z) of the 100th element? (★☆☆)"
      ],
      "metadata": {
        "id": "6431e977"
      },
      "id": "6431e977"
    },
    {
      "cell_type": "code",
      "source": [
        "print(np.unravel_index(99, (6, 7, 8)))"
      ],
      "metadata": {
        "trusted": true,
        "colab": {
          "base_uri": "https://localhost:8080/"
        },
        "id": "de8b0245",
        "outputId": "86e0d2e6-3920-4b13-eda6-730961d609ef"
      },
      "execution_count": 28,
      "outputs": [
        {
          "output_type": "stream",
          "name": "stdout",
          "text": [
            "(1, 5, 3)\n"
          ]
        }
      ],
      "id": "de8b0245"
    },
    {
      "cell_type": "markdown",
      "source": [
        "#### 21. Create a checkerboard 8x8 matrix using the tile function (★☆☆)"
      ],
      "metadata": {
        "id": "31abe6fe"
      },
      "id": "31abe6fe"
    },
    {
      "cell_type": "code",
      "source": [
        "print(np.tile([[0, 1], [1, 0]], (4, 4)))"
      ],
      "metadata": {
        "trusted": true,
        "id": "6da26fd3",
        "outputId": "adcc2837-88a8-4093-e9db-5259adb829fc"
      },
      "execution_count": null,
      "outputs": [
        {
          "name": "stdout",
          "text": "[[0 1 0 1 0 1 0 1]\n [1 0 1 0 1 0 1 0]\n [0 1 0 1 0 1 0 1]\n [1 0 1 0 1 0 1 0]\n [0 1 0 1 0 1 0 1]\n [1 0 1 0 1 0 1 0]\n [0 1 0 1 0 1 0 1]\n [1 0 1 0 1 0 1 0]]\n",
          "output_type": "stream"
        }
      ],
      "id": "6da26fd3"
    },
    {
      "cell_type": "markdown",
      "source": [
        "#### 22. Normalize a 5x5 random matrix (★☆☆)"
      ],
      "metadata": {
        "id": "fd88b3f4"
      },
      "id": "fd88b3f4"
    },
    {
      "cell_type": "code",
      "source": [
        "arr = np.random.random((5, 5))\n",
        "\n",
        "arr = (arr - np.mean(arr)) / (np.std(arr))\n",
        "print(arr)"
      ],
      "metadata": {
        "trusted": true,
        "colab": {
          "base_uri": "https://localhost:8080/"
        },
        "id": "ee6ced60",
        "outputId": "93585116-5ad6-44ac-ce43-c0373e5d3032"
      },
      "execution_count": 29,
      "outputs": [
        {
          "output_type": "stream",
          "name": "stdout",
          "text": [
            "[[-1.69106494  1.00837699  1.29783595 -0.91403436  1.52507931]\n",
            " [-0.57719979  0.85194398 -0.3050502  -1.74121452 -0.42896256]\n",
            " [-0.17314427  1.47070039  0.03823623 -0.9765382  -0.61480713]\n",
            " [ 0.9615791   0.84033507  0.77773574 -1.5312708   0.43217612]\n",
            " [ 0.04525018 -0.621375   -1.08531066 -0.02111434  1.4318377 ]]\n"
          ]
        }
      ],
      "id": "ee6ced60"
    },
    {
      "cell_type": "markdown",
      "source": [
        "#### 23. Create a custom dtype that describes a color as four unsigned bytes (RGBA) (★☆☆)"
      ],
      "metadata": {
        "id": "464d8590"
      },
      "id": "464d8590"
    },
    {
      "cell_type": "code",
      "source": [
        "color = np.dtype([(\"r\", np.ubyte),\n",
        "                  (\"g\", np.ubyte),\n",
        "                  (\"b\", np.ubyte),\n",
        "                  (\"a\", np.ubyte)])"
      ],
      "metadata": {
        "trusted": true,
        "id": "e2f9cfc6"
      },
      "execution_count": 30,
      "outputs": [],
      "id": "e2f9cfc6"
    },
    {
      "cell_type": "markdown",
      "source": [
        "#### 24. Multiply a 5x3 matrix by a 3x2 matrix (real matrix product) (★☆☆)"
      ],
      "metadata": {
        "id": "06c63bb3"
      },
      "id": "06c63bb3"
    },
    {
      "cell_type": "code",
      "source": [
        "z = np.dot(np.ones((5, 3)), np.ones((3, 2)))\n",
        "print(z)"
      ],
      "metadata": {
        "trusted": true,
        "id": "9fc0d553",
        "outputId": "badf6304-0e86-45bf-9377-5381aabec470"
      },
      "execution_count": null,
      "outputs": [
        {
          "name": "stdout",
          "text": "[[3. 3.]\n [3. 3.]\n [3. 3.]\n [3. 3.]\n [3. 3.]]\n",
          "output_type": "stream"
        }
      ],
      "id": "9fc0d553"
    },
    {
      "cell_type": "markdown",
      "source": [
        "#### 25. Given a 1D array, negate all elements which are between 3 and 8, in place. (★☆☆)"
      ],
      "metadata": {
        "id": "76fa6285"
      },
      "id": "76fa6285"
    },
    {
      "cell_type": "code",
      "source": [
        "z = np.arange(11)\n",
        "\n",
        "for i in range(len(z)):\n",
        "    if (z[i] > 3) and (z[i] < 8):\n",
        "        z[i] = - z[i]\n",
        "\n",
        "print(z)"
      ],
      "metadata": {
        "trusted": true,
        "id": "0e25eca7",
        "outputId": "585bb159-88fb-47a9-f817-7f89407ce202"
      },
      "execution_count": null,
      "outputs": [
        {
          "name": "stdout",
          "text": "[ 0  1  2  3 -4 -5 -6 -7  8  9 10]\n",
          "output_type": "stream"
        }
      ],
      "id": "0e25eca7"
    },
    {
      "cell_type": "code",
      "source": [
        "Z = np.arange(11)\n",
        "Z[(3 < Z) & (Z < 8)] *= -1\n",
        "print(Z)"
      ],
      "metadata": {
        "trusted": true,
        "id": "bbeb0c8e-7155-4b9b-9d48-6040d2c8add7",
        "outputId": "36f416a3-aacc-4cf2-eee2-a132db864b17"
      },
      "execution_count": null,
      "outputs": [
        {
          "name": "stdout",
          "text": "[ 0  1  2  3 -4 -5 -6 -7  8  9 10]\n",
          "output_type": "stream"
        }
      ],
      "id": "bbeb0c8e-7155-4b9b-9d48-6040d2c8add7"
    },
    {
      "cell_type": "markdown",
      "source": [
        "#### 26. What is the output of the following script? (★☆☆)\n",
        "```python\n",
        "# Author: Jake VanderPlas\n",
        "\n",
        "print(sum(range(5),-1))\n",
        "from numpy import *\n",
        "print(sum(range(5),-1))\n",
        "```"
      ],
      "metadata": {
        "id": "930ed8bb"
      },
      "id": "930ed8bb"
    },
    {
      "cell_type": "code",
      "source": [
        "print(sum(range(5),-1))\n",
        "from numpy import *\n",
        "print(sum(range(5),-1))"
      ],
      "metadata": {
        "trusted": true,
        "id": "f02eedba",
        "outputId": "ff6e17ff-bc93-49a3-c462-601370e4c362"
      },
      "execution_count": null,
      "outputs": [
        {
          "name": "stdout",
          "text": "9\n10\n",
          "output_type": "stream"
        }
      ],
      "id": "f02eedba"
    },
    {
      "cell_type": "markdown",
      "source": [
        "#### 27. Consider an integer vector Z, which of these expressions are legal? (★☆☆)\n",
        "```python\n",
        "Z**Z\n",
        "2 << Z >> 2\n",
        "Z <- Z\n",
        "1j*Z\n",
        "Z/1/1\n",
        "Z<Z>Z\n",
        "```"
      ],
      "metadata": {
        "id": "177120e7"
      },
      "id": "177120e7"
    },
    {
      "cell_type": "code",
      "source": [],
      "metadata": {
        "id": "86d6cbef"
      },
      "execution_count": null,
      "outputs": [],
      "id": "86d6cbef"
    },
    {
      "cell_type": "markdown",
      "source": [
        "#### 28. What are the result of the following expressions? (★☆☆)\n",
        "```python\n",
        "np.array(0) / np.array(0)\n",
        "np.array(0) // np.array(0)\n",
        "np.array([np.nan]).astype(int).astype(float)\n",
        "```"
      ],
      "metadata": {
        "id": "a6eaf0e8"
      },
      "id": "a6eaf0e8"
    },
    {
      "cell_type": "code",
      "source": [
        "print(np.array(0) / np.array(0))\n",
        "print(np.array(0) // np.array(0))\n",
        "print(np.array([np.nan]).astype(int).astype(float))"
      ],
      "metadata": {
        "colab": {
          "base_uri": "https://localhost:8080/"
        },
        "id": "93684068",
        "outputId": "f3f73188-d156-4740-cc83-092479412fdb"
      },
      "execution_count": 8,
      "outputs": [
        {
          "output_type": "stream",
          "name": "stdout",
          "text": [
            "nan\n",
            "0\n",
            "[-9.22337204e+18]\n"
          ]
        },
        {
          "output_type": "stream",
          "name": "stderr",
          "text": [
            "<ipython-input-8-2a10de0ee61b>:1: RuntimeWarning: invalid value encountered in true_divide\n",
            "  print(np.array(0) / np.array(0))\n",
            "<ipython-input-8-2a10de0ee61b>:2: RuntimeWarning: divide by zero encountered in floor_divide\n",
            "  print(np.array(0) // np.array(0))\n"
          ]
        }
      ],
      "id": "93684068"
    },
    {
      "cell_type": "markdown",
      "source": [
        "#### 29. How to round away from zero a float array ? (★☆☆)"
      ],
      "metadata": {
        "id": "524b65f8"
      },
      "id": "524b65f8"
    },
    {
      "cell_type": "code",
      "source": [
        "arr = np.random.normal(-100, +100, 10)\n",
        "print(arr)\n",
        "print(np.copysign(np.ceil(np.abs(arr)), arr))"
      ],
      "metadata": {
        "colab": {
          "base_uri": "https://localhost:8080/"
        },
        "id": "61fbb78e",
        "outputId": "d006834a-9b10-4f55-d23b-23de676f8e85"
      },
      "execution_count": 47,
      "outputs": [
        {
          "output_type": "stream",
          "name": "stdout",
          "text": [
            "[ -58.33933629   66.63248255 -210.56051381 -269.80337283 -163.42348026\n",
            " -205.48523552 -174.9993034  -229.98043933 -219.08114988 -130.39397675]\n",
            "[ -59.   67. -211. -270. -164. -206. -175. -230. -220. -131.]\n"
          ]
        }
      ],
      "id": "61fbb78e"
    },
    {
      "cell_type": "markdown",
      "source": [
        "#### 30. How to find common values between two arrays? (★☆☆)"
      ],
      "metadata": {
        "id": "8dc40752"
      },
      "id": "8dc40752"
    },
    {
      "cell_type": "code",
      "source": [
        "arr1 = np.array([1, 2, 3, 4, 5])\n",
        "arr2 = np.array([0, 2, 7, 8, 9, 101])\n",
        "\n",
        "print(np.intersect1d(arr1, arr2))"
      ],
      "metadata": {
        "colab": {
          "base_uri": "https://localhost:8080/"
        },
        "id": "54399cbe",
        "outputId": "8dda3003-5e10-483d-cd2e-bf2f355a1044"
      },
      "execution_count": 9,
      "outputs": [
        {
          "output_type": "stream",
          "name": "stdout",
          "text": [
            "[2]\n"
          ]
        }
      ],
      "id": "54399cbe"
    },
    {
      "cell_type": "markdown",
      "source": [
        "#### 31. How to ignore all numpy warnings (not recommended)? (★☆☆)"
      ],
      "metadata": {
        "id": "b7f38e21"
      },
      "id": "b7f38e21"
    },
    {
      "cell_type": "code",
      "source": [
        "with np.errstate(all=\"ignore\"):\n",
        "    np.arange(3) / 0"
      ],
      "metadata": {
        "id": "2ca3289c"
      },
      "execution_count": 16,
      "outputs": [],
      "id": "2ca3289c"
    },
    {
      "cell_type": "markdown",
      "source": [
        "#### 32. Is the following expressions true? (★☆☆)\n",
        "```python\n",
        "np.sqrt(-1) == np.emath.sqrt(-1)\n",
        "```"
      ],
      "metadata": {
        "id": "2d850aab"
      },
      "id": "2d850aab"
    },
    {
      "cell_type": "code",
      "source": [
        "#False\n",
        "np.sqrt(-1) == np.emath.sqrt(-1)"
      ],
      "metadata": {
        "trusted": true,
        "colab": {
          "base_uri": "https://localhost:8080/"
        },
        "id": "5c83ffce",
        "outputId": "b1b98c1e-f756-4076-9286-442e3bdc11ad"
      },
      "execution_count": 11,
      "outputs": [
        {
          "output_type": "stream",
          "name": "stderr",
          "text": [
            "<ipython-input-11-bfa89e8eb074>:2: RuntimeWarning: invalid value encountered in sqrt\n",
            "  np.sqrt(-1) == np.emath.sqrt(-1)\n"
          ]
        },
        {
          "output_type": "execute_result",
          "data": {
            "text/plain": [
              "False"
            ]
          },
          "metadata": {},
          "execution_count": 11
        }
      ],
      "id": "5c83ffce"
    },
    {
      "cell_type": "markdown",
      "source": [
        "#### 33. How to get the dates of yesterday, today and tomorrow? (★☆☆)"
      ],
      "metadata": {
        "id": "5c4a556f"
      },
      "id": "5c4a556f"
    },
    {
      "cell_type": "code",
      "source": [
        "from datetime import date, timedelta\n",
        "\n",
        "today = date.today()\n",
        "print(\"Today's date:\", today)\n",
        "\n",
        "yesterday = date.today() - timedelta(days = 1)\n",
        "print(\"Yesterday's date:\", yesterday)\n",
        "\n",
        "tomorrow = date.today() + timedelta(days = 1)\n",
        "print(\"Tomorrow's date:\", tomorrow)"
      ],
      "metadata": {
        "colab": {
          "base_uri": "https://localhost:8080/"
        },
        "id": "c3b683a0",
        "outputId": "4553c309-b6ff-4621-c265-f5083a3cea80"
      },
      "execution_count": 40,
      "outputs": [
        {
          "output_type": "stream",
          "name": "stdout",
          "text": [
            "Today's date: 2023-01-15\n",
            "Yesterday's date: 2023-01-14\n",
            "Tomorrow's date: 2023-01-16\n"
          ]
        }
      ],
      "id": "c3b683a0"
    },
    {
      "cell_type": "markdown",
      "source": [
        "#### 34. How to get all the dates corresponding to the month of July 2016? (★★☆)"
      ],
      "metadata": {
        "id": "453cdd64"
      },
      "id": "453cdd64"
    },
    {
      "cell_type": "code",
      "source": [
        "july = np.arange('2016-07', '2016-08', dtype='datetime64[D]')\n",
        "\n",
        "for elem in enumerate(july):  \n",
        "  print(elem[1])"
      ],
      "metadata": {
        "colab": {
          "base_uri": "https://localhost:8080/"
        },
        "id": "4ba4d37c",
        "outputId": "df500568-4324-49eb-96db-4f0dff64cbaf"
      },
      "execution_count": 43,
      "outputs": [
        {
          "output_type": "stream",
          "name": "stdout",
          "text": [
            "2016-07-01\n",
            "2016-07-02\n",
            "2016-07-03\n",
            "2016-07-04\n",
            "2016-07-05\n",
            "2016-07-06\n",
            "2016-07-07\n",
            "2016-07-08\n",
            "2016-07-09\n",
            "2016-07-10\n",
            "2016-07-11\n",
            "2016-07-12\n",
            "2016-07-13\n",
            "2016-07-14\n",
            "2016-07-15\n",
            "2016-07-16\n",
            "2016-07-17\n",
            "2016-07-18\n",
            "2016-07-19\n",
            "2016-07-20\n",
            "2016-07-21\n",
            "2016-07-22\n",
            "2016-07-23\n",
            "2016-07-24\n",
            "2016-07-25\n",
            "2016-07-26\n",
            "2016-07-27\n",
            "2016-07-28\n",
            "2016-07-29\n",
            "2016-07-30\n",
            "2016-07-31\n"
          ]
        }
      ],
      "id": "4ba4d37c"
    },
    {
      "cell_type": "markdown",
      "source": [
        "#### 35. How to compute ((A+B)*(-A/2)) in place (without copy)? (★★☆)"
      ],
      "metadata": {
        "id": "52667b6e"
      },
      "id": "52667b6e"
    },
    {
      "cell_type": "code",
      "source": [
        "A = np.ones(3) * 1\n",
        "B = np.ones(3) * 2\n",
        "np.add(A, B, out = B)\n",
        "np.divide(A, 2, out = A)\n",
        "np.negative(A, out = A)\n",
        "np.multiply(A, B, out = A)"
      ],
      "metadata": {
        "colab": {
          "base_uri": "https://localhost:8080/"
        },
        "id": "e6e7c030",
        "outputId": "30d2d17f-df79-423d-bdfa-31c30f7ebdb9"
      },
      "execution_count": 44,
      "outputs": [
        {
          "output_type": "execute_result",
          "data": {
            "text/plain": [
              "array([-1.5, -1.5, -1.5])"
            ]
          },
          "metadata": {},
          "execution_count": 44
        }
      ],
      "id": "e6e7c030"
    },
    {
      "cell_type": "markdown",
      "source": [
        "#### 36. Extract the integer part of a random array of positive numbers using 4 different methods (★★☆)"
      ],
      "metadata": {
        "id": "9a8f3738"
      },
      "id": "9a8f3738"
    },
    {
      "cell_type": "code",
      "source": [
        "arr = np.random.normal(0, 100, 10)\n",
        "\n",
        "print(arr)\n",
        "print(arr.astype(int))\n",
        "print(np.copysign(np.ceil(np.abs(arr)) - 1, arr))\n",
        "print(arr // 1)\n",
        "print(np.floor(arr))"
      ],
      "metadata": {
        "colab": {
          "base_uri": "https://localhost:8080/"
        },
        "id": "368a801a",
        "outputId": "691acf53-1bc9-4872-f2af-d5002bf72a7f"
      },
      "execution_count": 52,
      "outputs": [
        {
          "output_type": "stream",
          "name": "stdout",
          "text": [
            "[  8.66742318 -41.83919878  49.18258514  11.60465206 -34.14572906\n",
            "  48.02270464  -1.54340675 -58.56093041 100.75151923 -71.03038496]\n",
            "[  8 -41  49  11 -34  48  -1 -58 100 -71]\n",
            "[  8. -41.  49.  11. -34.  48.  -1. -58. 100. -71.]\n",
            "[  8. -42.  49.  11. -35.  48.  -2. -59. 100. -72.]\n",
            "[  8. -42.  49.  11. -35.  48.  -2. -59. 100. -72.]\n"
          ]
        }
      ],
      "id": "368a801a"
    },
    {
      "cell_type": "markdown",
      "source": [
        "#### 37. Create a 5x5 matrix with row values ranging from 0 to 4 (★★☆)"
      ],
      "metadata": {
        "id": "cab1eed1"
      },
      "id": "cab1eed1"
    },
    {
      "cell_type": "code",
      "source": [
        "import numpy as np\n",
        "\n",
        "arr = np.zeros((5, 5))\n",
        "arr += np.arange(5)\n",
        "\n",
        "print(arr)"
      ],
      "metadata": {
        "colab": {
          "base_uri": "https://localhost:8080/"
        },
        "id": "f1b579ba",
        "outputId": "8dcb52f8-ff19-4daf-8bb8-72ee32c4f26f"
      },
      "execution_count": 4,
      "outputs": [
        {
          "output_type": "stream",
          "name": "stdout",
          "text": [
            "[[0. 1. 2. 3. 4.]\n",
            " [0. 1. 2. 3. 4.]\n",
            " [0. 1. 2. 3. 4.]\n",
            " [0. 1. 2. 3. 4.]\n",
            " [0. 1. 2. 3. 4.]]\n"
          ]
        }
      ],
      "id": "f1b579ba"
    },
    {
      "cell_type": "markdown",
      "source": [
        "#### 38. Consider a generator function that generates 10 integers and use it to build an array (★☆☆)"
      ],
      "metadata": {
        "id": "cd0ce6b1"
      },
      "id": "cd0ce6b1"
    },
    {
      "cell_type": "code",
      "source": [
        "def generate(n):\n",
        "    for i in range(n):\n",
        "        yield i\n",
        "\n",
        "n = 10\n",
        "\n",
        "arr = np.fromiter(generate(n), dtype = int, count=-1)\n",
        "print(arr)"
      ],
      "metadata": {
        "colab": {
          "base_uri": "https://localhost:8080/"
        },
        "id": "aab193a6",
        "outputId": "d4f61066-091c-4dec-ae1e-c2ee3b516b07"
      },
      "execution_count": 173,
      "outputs": [
        {
          "output_type": "stream",
          "name": "stdout",
          "text": [
            "[0 1 2 3 4 5 6 7 8 9]\n"
          ]
        }
      ],
      "id": "aab193a6"
    },
    {
      "cell_type": "markdown",
      "source": [
        "#### 39. Create a vector of size 10 with values ranging from 0 to 1, both excluded (★★☆)"
      ],
      "metadata": {
        "id": "c4c942d1"
      },
      "id": "c4c942d1"
    },
    {
      "cell_type": "code",
      "source": [
        "lst = np.linspace(0, 1, 10 + 1)\n",
        "print(lst)"
      ],
      "metadata": {
        "colab": {
          "base_uri": "https://localhost:8080/"
        },
        "id": "e42eaa4b",
        "outputId": "565635d2-c9ff-4f1f-bab2-4f691be5e73f"
      },
      "execution_count": 54,
      "outputs": [
        {
          "output_type": "stream",
          "name": "stdout",
          "text": [
            "[0.  0.1 0.2 0.3 0.4 0.5 0.6 0.7 0.8 0.9 1. ]\n"
          ]
        }
      ],
      "id": "e42eaa4b"
    },
    {
      "cell_type": "markdown",
      "source": [
        "#### 40. Create a random vector of size 10 and sort it (★★☆)"
      ],
      "metadata": {
        "id": "9b3cb8d2"
      },
      "id": "9b3cb8d2"
    },
    {
      "cell_type": "code",
      "source": [
        "lst = np.random.random(10)\n",
        "lst.sort()\n",
        "print(lst)"
      ],
      "metadata": {
        "colab": {
          "base_uri": "https://localhost:8080/"
        },
        "id": "37d2b341",
        "outputId": "a6d5b902-0480-4ea1-c8ce-8c21bd65057f"
      },
      "execution_count": 13,
      "outputs": [
        {
          "output_type": "stream",
          "name": "stdout",
          "text": [
            "[0.15539105 0.21118388 0.27464961 0.61000557 0.67540029 0.69001982\n",
            " 0.73822692 0.74107463 0.8993322  0.94617269]\n"
          ]
        }
      ],
      "id": "37d2b341"
    },
    {
      "cell_type": "markdown",
      "source": [
        "#### 41. How to sum a small array faster than np.sum? (★★☆)"
      ],
      "metadata": {
        "id": "2facfddc"
      },
      "id": "2facfddc"
    },
    {
      "cell_type": "code",
      "source": [
        "arr = np.arange(10)\n",
        "np.add.reduce(arr)"
      ],
      "metadata": {
        "colab": {
          "base_uri": "https://localhost:8080/"
        },
        "id": "4bb8864f",
        "outputId": "30e9759d-73fb-4d7b-9d02-73267e4e61b4"
      },
      "execution_count": 55,
      "outputs": [
        {
          "output_type": "execute_result",
          "data": {
            "text/plain": [
              "45"
            ]
          },
          "metadata": {},
          "execution_count": 55
        }
      ],
      "id": "4bb8864f"
    },
    {
      "cell_type": "markdown",
      "source": [
        "#### 42. Consider two random array A and B, check if they are equal (★★☆)"
      ],
      "metadata": {
        "id": "539cd2a5"
      },
      "id": "539cd2a5"
    },
    {
      "cell_type": "code",
      "source": [
        "A = np.random.random(10).astype(int)\n",
        "B = np.random.random(10).astype(int)\n",
        "\n",
        "if len(A) == len(B):\n",
        "  print('Equal')\n",
        "else:\n",
        "  print('Not equal')"
      ],
      "metadata": {
        "colab": {
          "base_uri": "https://localhost:8080/"
        },
        "id": "5246d7bf",
        "outputId": "3d47e199-0150-4cc9-b162-c90a7002c0d6"
      },
      "execution_count": 66,
      "outputs": [
        {
          "output_type": "stream",
          "name": "stdout",
          "text": [
            "Equal\n"
          ]
        }
      ],
      "id": "5246d7bf"
    },
    {
      "cell_type": "markdown",
      "source": [
        "#### 43. Make an array immutable (read-only) (★★☆)"
      ],
      "metadata": {
        "id": "448f8274"
      },
      "id": "448f8274"
    },
    {
      "cell_type": "code",
      "source": [
        "arr = np.zeros(10)\n",
        "arr.flags.writeable = False\n",
        "print(\"Test the array is read-only or not:\")\n",
        "print(\"Try to change the value of the first element:\")\n",
        "arr[0] = 1"
      ],
      "metadata": {
        "colab": {
          "base_uri": "https://localhost:8080/",
          "height": 235
        },
        "id": "7cf2b3dd",
        "outputId": "b51ee014-4980-4b0d-b86a-61685f6075d6"
      },
      "execution_count": 68,
      "outputs": [
        {
          "output_type": "stream",
          "name": "stdout",
          "text": [
            "Test the array is read-only or not:\n",
            "Try to change the value of the first element:\n"
          ]
        },
        {
          "output_type": "error",
          "ename": "ValueError",
          "evalue": "ignored",
          "traceback": [
            "\u001b[0;31m---------------------------------------------------------------------------\u001b[0m",
            "\u001b[0;31mValueError\u001b[0m                                Traceback (most recent call last)",
            "\u001b[0;32m<ipython-input-68-ea5988e11a25>\u001b[0m in \u001b[0;36m<module>\u001b[0;34m\u001b[0m\n\u001b[1;32m      3\u001b[0m \u001b[0mprint\u001b[0m\u001b[0;34m(\u001b[0m\u001b[0;34m\"Test the array is read-only or not:\"\u001b[0m\u001b[0;34m)\u001b[0m\u001b[0;34m\u001b[0m\u001b[0;34m\u001b[0m\u001b[0m\n\u001b[1;32m      4\u001b[0m \u001b[0mprint\u001b[0m\u001b[0;34m(\u001b[0m\u001b[0;34m\"Try to change the value of the first element:\"\u001b[0m\u001b[0;34m)\u001b[0m\u001b[0;34m\u001b[0m\u001b[0;34m\u001b[0m\u001b[0m\n\u001b[0;32m----> 5\u001b[0;31m \u001b[0marr\u001b[0m\u001b[0;34m[\u001b[0m\u001b[0;36m0\u001b[0m\u001b[0;34m]\u001b[0m \u001b[0;34m=\u001b[0m \u001b[0;36m1\u001b[0m\u001b[0;34m\u001b[0m\u001b[0;34m\u001b[0m\u001b[0m\n\u001b[0m",
            "\u001b[0;31mValueError\u001b[0m: assignment destination is read-only"
          ]
        }
      ],
      "id": "7cf2b3dd"
    },
    {
      "cell_type": "markdown",
      "source": [
        "#### 44. Consider a random 10x2 matrix representing cartesian coordinates, convert them to polar coordinates (★★☆)"
      ],
      "metadata": {
        "id": "d7b7aaf3"
      },
      "id": "d7b7aaf3"
    },
    {
      "cell_type": "code",
      "source": [
        "z = np.random.random((10,2))\n",
        "x, y = z[:, 0], z[:, 1]\n",
        "r = np.sqrt(x ** 2 + y ** 2)\n",
        "t = np.arctan2(y, x)\n",
        "print(r)\n",
        "print(t)"
      ],
      "metadata": {
        "colab": {
          "base_uri": "https://localhost:8080/"
        },
        "id": "e2337585",
        "outputId": "7711bf1e-d8de-4ad1-fc11-dd8776b52042"
      },
      "execution_count": 77,
      "outputs": [
        {
          "output_type": "stream",
          "name": "stdout",
          "text": [
            "[0.82399518 1.11621575 0.77612583 0.15542574 0.27171168 0.66493085\n",
            " 0.90548552 1.2017613  0.98321596 0.43401551]\n",
            "[0.67034855 1.09867148 0.7157879  0.11977907 0.42481461 1.51130568\n",
            " 1.42828032 0.91200389 0.97281992 0.20493142]\n"
          ]
        }
      ],
      "id": "e2337585"
    },
    {
      "cell_type": "markdown",
      "source": [
        "#### 45. Create random vector of size 10 and replace the maximum value by 0 (★★☆)"
      ],
      "metadata": {
        "id": "a556027a"
      },
      "id": "a556027a"
    },
    {
      "cell_type": "code",
      "source": [
        "arr = np.random.random(10)\n",
        "print(arr)\n",
        "idx = np.where(arr == max(arr))\n",
        "arr[idx] = 0\n",
        "print(arr)"
      ],
      "metadata": {
        "colab": {
          "base_uri": "https://localhost:8080/"
        },
        "id": "9e07cb87",
        "outputId": "8e34ca47-6013-457c-f10b-b39e2e974e52"
      },
      "execution_count": 74,
      "outputs": [
        {
          "output_type": "stream",
          "name": "stdout",
          "text": [
            "[0.70366868 0.34476634 0.27134214 0.70442744 0.4906524  0.49378196\n",
            " 0.53392741 0.62893521 0.67638079 0.0868648 ]\n",
            "[0.70366868 0.34476634 0.27134214 0.         0.4906524  0.49378196\n",
            " 0.53392741 0.62893521 0.67638079 0.0868648 ]\n"
          ]
        }
      ],
      "id": "9e07cb87"
    },
    {
      "cell_type": "markdown",
      "source": [
        "#### 46. Create a structured array with `x` and `y` coordinates covering the [0,1]x[0,1] area (★★☆)"
      ],
      "metadata": {
        "id": "004f3da1"
      },
      "id": "004f3da1"
    },
    {
      "cell_type": "code",
      "source": [
        "n = 5\n",
        "arr = np.zeros((n, n), [('x', float),('y', float)])\n",
        "arr['x'], arr['y'] = np.meshgrid(np.linspace(0, 10, n),\n",
        "                                 np.linspace(0, 10, n))\n",
        "print(arr)"
      ],
      "metadata": {
        "colab": {
          "base_uri": "https://localhost:8080/"
        },
        "id": "4PR1DmOmkI0a",
        "outputId": "4e3bf092-2afa-44eb-f391-7ede597bab86"
      },
      "id": "4PR1DmOmkI0a",
      "execution_count": 182,
      "outputs": [
        {
          "output_type": "stream",
          "name": "stdout",
          "text": [
            "[[( 0. ,  0. ) ( 2.5,  0. ) ( 5. ,  0. ) ( 7.5,  0. ) (10. ,  0. )]\n",
            " [( 0. ,  2.5) ( 2.5,  2.5) ( 5. ,  2.5) ( 7.5,  2.5) (10. ,  2.5)]\n",
            " [( 0. ,  5. ) ( 2.5,  5. ) ( 5. ,  5. ) ( 7.5,  5. ) (10. ,  5. )]\n",
            " [( 0. ,  7.5) ( 2.5,  7.5) ( 5. ,  7.5) ( 7.5,  7.5) (10. ,  7.5)]\n",
            " [( 0. , 10. ) ( 2.5, 10. ) ( 5. , 10. ) ( 7.5, 10. ) (10. , 10. )]]\n"
          ]
        }
      ]
    },
    {
      "cell_type": "markdown",
      "source": [
        "#### 47. Given two arrays, X and Y, construct the Cauchy matrix C (Cij =1/(xi - yj)) (★★☆)"
      ],
      "metadata": {
        "id": "1c0adc0d"
      },
      "id": "1c0adc0d"
    },
    {
      "cell_type": "code",
      "source": [
        "x = np.random.random(10)\n",
        "y = np.random.random(10)\n",
        "\n",
        "c = np.zeros((10, 10))\n",
        "\n",
        "for i, elem in enumerate(x):\n",
        "  for j, elem in enumerate(y):\n",
        "    c[i, j] = 1 / (x[i] - y[j])\n",
        "\n",
        "print(c)"
      ],
      "metadata": {
        "colab": {
          "base_uri": "https://localhost:8080/"
        },
        "id": "01b3bbb7",
        "outputId": "4cd846cc-bbd5-4587-90e8-a6acc50c7090"
      },
      "execution_count": 81,
      "outputs": [
        {
          "output_type": "stream",
          "name": "stdout",
          "text": [
            "[[-4.18259252e+00 -2.82489753e+00 -5.41716364e+01 -1.70716300e+01\n",
            "  -2.13214976e+00 -1.06571256e+00 -1.42328942e+00 -1.77558692e+01\n",
            "  -1.22388436e+00 -4.98232411e+00]\n",
            " [ 6.25366102e+00  2.22235286e+01  2.62789539e+00  2.93758414e+00\n",
            "  -1.42821009e+01 -1.85409452e+00 -3.29375020e+00  2.91823323e+00\n",
            "  -2.39189725e+00  5.04329791e+00]\n",
            " [-6.59167636e+00 -3.75072030e+00  1.45096097e+01  3.47186398e+01\n",
            "  -2.62033550e+00 -1.17514387e+00 -1.62543981e+00  3.21954591e+01\n",
            "  -1.37044316e+00 -8.82380002e+00]\n",
            " [ 2.57572618e+00  3.65856716e+00  1.64239657e+00  1.75824338e+00\n",
            "   6.31648158e+00 -3.21529829e+00 -1.32852231e+01  1.75129267e+00\n",
            "  -5.27024597e+00  2.34402480e+00]\n",
            " [ 5.36782731e+00  1.40083223e+01  2.45747685e+00  2.72624744e+00\n",
            "  -2.29205719e+01 -1.94947716e+00 -3.60728872e+00  2.70957277e+00\n",
            "  -2.55304345e+00  4.45093820e+00]\n",
            " [-5.63721579e+00 -3.42112495e+00  2.31300598e+01  3.20830179e+02\n",
            "  -2.45509281e+00 -1.14071170e+00 -1.56029569e+00  1.86073415e+02\n",
            "  -1.32384222e+00 -7.19342095e+00]\n",
            " [-5.52966886e+00 -3.38121548e+00  2.51359455e+01 -3.00114352e+03\n",
            "  -2.43447194e+00 -1.13623992e+00 -1.55194126e+00  5.19722761e+02\n",
            "  -1.31782317e+00 -7.01921686e+00]\n",
            " [-5.50461067e+00 -3.37182987e+00  2.56670690e+01 -8.64721514e+02\n",
            "  -2.42960267e+00 -1.13517808e+00 -1.54996101e+00  9.08374609e+02\n",
            "  -1.31639505e+00 -6.97888957e+00]\n",
            " [-7.85651632e+00 -4.12895801e+00  1.07131254e+01  1.87876086e+01\n",
            "  -2.79949784e+00 -1.20986860e+00 -1.69263592e+00  1.80232525e+01\n",
            "  -1.41790198e+00 -1.12478022e+01]\n",
            " [-1.22103336e+01 -5.08112468e+00  7.20832548e+00  1.01407943e+01\n",
            "  -3.20695898e+00 -1.28016221e+00 -1.83348485e+00  9.91385710e+00\n",
            "  -1.51542168e+00 -2.29772947e+01]]\n"
          ]
        }
      ],
      "id": "01b3bbb7"
    },
    {
      "cell_type": "code",
      "source": [
        "X = np.arange(8)\n",
        "Y = X + 0.5\n",
        "C = 1.0 / np.subtract.outer(X, Y)\n",
        "print(np.linalg.det(C))"
      ],
      "metadata": {
        "colab": {
          "base_uri": "https://localhost:8080/"
        },
        "id": "B4fzi9kNiqs-",
        "outputId": "fa8e20cf-e90e-43a9-c9cb-2d87c2b83f38"
      },
      "id": "B4fzi9kNiqs-",
      "execution_count": 82,
      "outputs": [
        {
          "output_type": "stream",
          "name": "stdout",
          "text": [
            "3638.163637117973\n"
          ]
        }
      ]
    },
    {
      "cell_type": "markdown",
      "source": [
        "#### 48. Print the minimum and maximum representable value for each numpy scalar type (★★☆)"
      ],
      "metadata": {
        "id": "c8a2f65a"
      },
      "id": "c8a2f65a"
    },
    {
      "cell_type": "code",
      "source": [
        "print('np.int8:')\n",
        "print(np.iinfo(np.int8).min, np.iinfo(np.int8).max)\n",
        "\n",
        "print('np.int32:')\n",
        "print(np.iinfo(np.int32).min, np.iinfo(np.int32).max)\n",
        "\n",
        "print('np.int64:')\n",
        "print(np.iinfo(np.int64).min, np.iinfo(np.int64).max)\n",
        "\n",
        "print('np.float32:')\n",
        "print(np.finfo(np.float32).min, np.finfo(np.float32).max)\n",
        "\n",
        "print('np.float64:')\n",
        "print(np.finfo(np.float64).min, np.finfo(np.float64).max)"
      ],
      "metadata": {
        "colab": {
          "base_uri": "https://localhost:8080/"
        },
        "id": "35d844d6",
        "outputId": "a9273eec-c86e-452b-dcc4-81b57167acda"
      },
      "execution_count": 86,
      "outputs": [
        {
          "output_type": "stream",
          "name": "stdout",
          "text": [
            "np.int8:\n",
            "-128 127\n",
            "np.int32:\n",
            "-2147483648 2147483647\n",
            "np.int64:\n",
            "-9223372036854775808 9223372036854775807\n",
            "np.float32:\n",
            "-3.4028235e+38 3.4028235e+38\n",
            "np.float64:\n",
            "-1.7976931348623157e+308 1.7976931348623157e+308\n"
          ]
        }
      ],
      "id": "35d844d6"
    },
    {
      "cell_type": "markdown",
      "source": [
        "#### 49. How to print all the values of an array? (★★☆)"
      ],
      "metadata": {
        "id": "11727a69"
      },
      "id": "11727a69"
    },
    {
      "cell_type": "code",
      "source": [
        "arr = np.random.random(10)\n",
        "for elem in arr:\n",
        "  print(elem)\n"
      ],
      "metadata": {
        "colab": {
          "base_uri": "https://localhost:8080/"
        },
        "id": "eY8xcTWbu5gU",
        "outputId": "2492414f-e0a6-4278-ef52-fb346bd6eeac"
      },
      "id": "eY8xcTWbu5gU",
      "execution_count": 15,
      "outputs": [
        {
          "output_type": "stream",
          "name": "stdout",
          "text": [
            "0.5253647192022075\n",
            "0.6402697787553165\n",
            "0.255608559684793\n",
            "0.1729650813725293\n",
            "0.8133615413521453\n",
            "0.1645447092188853\n",
            "0.8541317955783809\n",
            "0.7412033216927248\n",
            "0.85917354632727\n",
            "0.4413965156401791\n"
          ]
        }
      ]
    },
    {
      "cell_type": "markdown",
      "source": [
        "#### 50. How to find the closest value (to a given scalar) in a vector? (★★☆)"
      ],
      "metadata": {
        "id": "e0e7d741"
      },
      "id": "e0e7d741"
    },
    {
      "cell_type": "code",
      "source": [
        "arr = np.random.random(10)\n",
        "num = 0.5\n",
        "nearest = []\n",
        "\n",
        "for i, elem in enumerate(arr):\n",
        "  nearest.append(abs(num - elem))\n",
        "\n",
        "nearest_val = arr[nearest.index(min(nearest))]\n",
        "print(arr)\n",
        "print(nearest_val)"
      ],
      "metadata": {
        "colab": {
          "base_uri": "https://localhost:8080/"
        },
        "id": "62cabf6f",
        "outputId": "9ac2d923-4b2f-4401-89cc-2da6f52f8e61"
      },
      "execution_count": 65,
      "outputs": [
        {
          "output_type": "stream",
          "name": "stdout",
          "text": [
            "[0.54594748 0.2558647  0.72419214 0.75657908 0.9099662  0.07629516\n",
            " 0.41562491 0.49681075 0.75786149 0.67476416]\n",
            "0.49681074634830424\n"
          ]
        }
      ],
      "id": "62cabf6f"
    },
    {
      "cell_type": "code",
      "source": [
        "Z = np.arange(100)\n",
        "v = np.random.uniform(0,100)\n",
        "index = (np.abs(Z-v)).argmin()\n",
        "print(Z)\n",
        "print(v)\n",
        "print(Z[index])"
      ],
      "metadata": {
        "colab": {
          "base_uri": "https://localhost:8080/"
        },
        "id": "NYi4mQT3hSVV",
        "outputId": "70f2133d-e290-404b-d2e1-fcc6728c7ff6"
      },
      "id": "NYi4mQT3hSVV",
      "execution_count": 68,
      "outputs": [
        {
          "output_type": "stream",
          "name": "stdout",
          "text": [
            "[ 0  1  2  3  4  5  6  7  8  9 10 11 12 13 14 15 16 17 18 19 20 21 22 23\n",
            " 24 25 26 27 28 29 30 31 32 33 34 35 36 37 38 39 40 41 42 43 44 45 46 47\n",
            " 48 49 50 51 52 53 54 55 56 57 58 59 60 61 62 63 64 65 66 67 68 69 70 71\n",
            " 72 73 74 75 76 77 78 79 80 81 82 83 84 85 86 87 88 89 90 91 92 93 94 95\n",
            " 96 97 98 99]\n",
            "50.519424443045565\n",
            "51\n"
          ]
        }
      ]
    },
    {
      "cell_type": "markdown",
      "source": [
        "#### 51. Create a structured array representing a position (x,y) and a color (r,g,b) (★★☆)"
      ],
      "metadata": {
        "id": "c5611b9e"
      },
      "id": "c5611b9e"
    },
    {
      "cell_type": "code",
      "source": [
        "arr = np.ones(10,  [('position', [('x', float, 1),\n",
        "                                  ('y', float, 1)]),\n",
        "                    ('color',    [('r', float, 1),\n",
        "                                  ('g', float, 1),\n",
        "                                  ('b', float, 1)])])\n",
        "print(arr)"
      ],
      "metadata": {
        "colab": {
          "base_uri": "https://localhost:8080/"
        },
        "id": "f622939d",
        "outputId": "9c4765a0-acad-4a74-c668-cb5e324183a4"
      },
      "execution_count": 64,
      "outputs": [
        {
          "output_type": "stream",
          "name": "stdout",
          "text": [
            "[((1., 1.), (1., 1., 1.)) ((1., 1.), (1., 1., 1.))\n",
            " ((1., 1.), (1., 1., 1.)) ((1., 1.), (1., 1., 1.))\n",
            " ((1., 1.), (1., 1., 1.)) ((1., 1.), (1., 1., 1.))\n",
            " ((1., 1.), (1., 1., 1.)) ((1., 1.), (1., 1., 1.))\n",
            " ((1., 1.), (1., 1., 1.)) ((1., 1.), (1., 1., 1.))]\n"
          ]
        },
        {
          "output_type": "stream",
          "name": "stderr",
          "text": [
            "/usr/local/lib/python3.8/dist-packages/numpy/core/numeric.py:204: FutureWarning: Passing (type, 1) or '1type' as a synonym of type is deprecated; in a future version of numpy, it will be understood as (type, (1,)) / '(1,)type'.\n",
            "  a = empty(shape, dtype, order)\n"
          ]
        }
      ],
      "id": "f622939d"
    },
    {
      "cell_type": "markdown",
      "source": [
        "#### 52. Consider a random vector with shape (100,2) representing coordinates, find point by point distances (★★☆)"
      ],
      "metadata": {
        "id": "d22b8574"
      },
      "id": "d22b8574"
    },
    {
      "cell_type": "code",
      "source": [
        "import scipy\n",
        "import scipy.spatial\n",
        "\n",
        "Z = np.random.random((10, 2))\n",
        "D = scipy.spatial.distance.cdist(Z, Z)\n",
        "print(D)"
      ],
      "metadata": {
        "colab": {
          "base_uri": "https://localhost:8080/"
        },
        "id": "d5c9cdf8",
        "outputId": "d1853cbc-f9e1-4d72-aa9b-ca9087079f4f"
      },
      "execution_count": 61,
      "outputs": [
        {
          "output_type": "stream",
          "name": "stdout",
          "text": [
            "[[0.         0.42495699 0.23564294 0.64359508 0.23060623 0.12616792\n",
            "  0.45818138 0.61239214 0.46458246 0.54347597]\n",
            " [0.42495699 0.         0.32607656 0.44310986 0.39035615 0.52971613\n",
            "  0.06006945 0.32729767 0.22568524 0.14125773]\n",
            " [0.23564294 0.32607656 0.         0.41023415 0.39339048 0.36022777\n",
            "  0.38084342 0.61719154 0.25783226 0.46703865]\n",
            " [0.64359508 0.44310986 0.41023415 0.         0.75006917 0.76937864\n",
            "  0.49300142 0.75399259 0.22481408 0.53189824]\n",
            " [0.23060623 0.39035615 0.39339048 0.75006917 0.         0.23494921\n",
            "  0.39262375 0.44357083 0.53435344 0.45764302]\n",
            " [0.12616792 0.52971613 0.36022777 0.76937864 0.23494921 0.\n",
            "  0.55480562 0.66836169 0.58941789 0.63552297]\n",
            " [0.45818138 0.06006945 0.38084342 0.49300142 0.39262375 0.55480562\n",
            "  0.         0.26882453 0.28106708 0.08841001]\n",
            " [0.61239214 0.32729767 0.61719154 0.75399259 0.44357083 0.66836169\n",
            "  0.26882453 0.         0.54922348 0.22429382]\n",
            " [0.46458246 0.22568524 0.25783226 0.22481408 0.53435344 0.58941789\n",
            "  0.28106708 0.54922348 0.         0.33760995]\n",
            " [0.54347597 0.14125773 0.46703865 0.53189824 0.45764302 0.63552297\n",
            "  0.08841001 0.22429382 0.33760995 0.        ]]\n"
          ]
        }
      ],
      "id": "d5c9cdf8"
    },
    {
      "cell_type": "markdown",
      "source": [
        "#### 53. How to convert a float (32 bits) array into an integer (32 bits) in place?"
      ],
      "metadata": {
        "id": "f5c164f2"
      },
      "id": "f5c164f2"
    },
    {
      "cell_type": "code",
      "source": [
        "arr_float = np.random.randint(0, 10, (5, 5)).astype(np.float32)\n",
        "print(arr_float)\n",
        "\n",
        "arr_int = arr_float.view(np.int32)\n",
        "arr_int[:] = arr_float\n",
        "print(arr_int)"
      ],
      "metadata": {
        "colab": {
          "base_uri": "https://localhost:8080/"
        },
        "id": "ea262de8",
        "outputId": "60c33175-8d88-4723-cd05-2cc30dac3e44"
      },
      "execution_count": 60,
      "outputs": [
        {
          "output_type": "stream",
          "name": "stdout",
          "text": [
            "[[5. 9. 5. 3. 7.]\n",
            " [9. 9. 0. 4. 1.]\n",
            " [6. 3. 3. 8. 7.]\n",
            " [1. 7. 5. 8. 2.]\n",
            " [7. 4. 1. 5. 2.]]\n",
            "[[5 9 5 3 7]\n",
            " [9 9 0 4 1]\n",
            " [6 3 3 8 7]\n",
            " [1 7 5 8 2]\n",
            " [7 4 1 5 2]]\n"
          ]
        }
      ],
      "id": "ea262de8"
    },
    {
      "cell_type": "markdown",
      "source": [
        "#### 54. How to read the following file? (★★☆)\n",
        "```\n",
        "1, 2, 3, 4, 5\n",
        "6,  ,  , 7, 8\n",
        " ,  , 9,10,11\n",
        "```"
      ],
      "metadata": {
        "id": "a8b7e6f5"
      },
      "id": "a8b7e6f5"
    },
    {
      "cell_type": "code",
      "source": [
        "from io import StringIO\n",
        "\n",
        "f = StringIO('''1, 2, 3, 4, 5\n",
        "                6,  ,  , 7, 8\n",
        "                 ,  , 9,10,11 ''')\n",
        "\n",
        "arr = np.genfromtxt(f, delimiter = \",\", dtype = np.int32)\n",
        "print(arr)"
      ],
      "metadata": {
        "colab": {
          "base_uri": "https://localhost:8080/"
        },
        "id": "bde0538a",
        "outputId": "70907309-6b89-4ef5-d6f8-bb2abe58d0c4"
      },
      "execution_count": 186,
      "outputs": [
        {
          "output_type": "stream",
          "name": "stdout",
          "text": [
            "[[ 1  2  3  4  5]\n",
            " [ 6 -1 -1  7  8]\n",
            " [-1 -1  9 10 11]]\n"
          ]
        }
      ],
      "id": "bde0538a"
    },
    {
      "cell_type": "markdown",
      "source": [
        "#### 55. What is the equivalent of enumerate for numpy arrays? (★★☆)"
      ],
      "metadata": {
        "id": "c6b32834"
      },
      "id": "c6b32834"
    },
    {
      "cell_type": "code",
      "source": [
        "arr = np.arange(9).reshape(3, 3)\n",
        "for i, elem in np.ndenumerate(arr):\n",
        "    print(i, elem)\n",
        "for i in np.ndindex(arr.shape):\n",
        "    print(i, arr[i])"
      ],
      "metadata": {
        "colab": {
          "base_uri": "https://localhost:8080/"
        },
        "id": "ab02472a",
        "outputId": "9ae73918-3826-4229-faa9-8950fbcf3e18"
      },
      "execution_count": 90,
      "outputs": [
        {
          "output_type": "stream",
          "name": "stdout",
          "text": [
            "(0, 0) 0\n",
            "(0, 1) 1\n",
            "(0, 2) 2\n",
            "(1, 0) 3\n",
            "(1, 1) 4\n",
            "(1, 2) 5\n",
            "(2, 0) 6\n",
            "(2, 1) 7\n",
            "(2, 2) 8\n",
            "(0, 0) 0\n",
            "(0, 1) 1\n",
            "(0, 2) 2\n",
            "(1, 0) 3\n",
            "(1, 1) 4\n",
            "(1, 2) 5\n",
            "(2, 0) 6\n",
            "(2, 1) 7\n",
            "(2, 2) 8\n"
          ]
        }
      ],
      "id": "ab02472a"
    },
    {
      "cell_type": "markdown",
      "source": [
        "#### 56. Generate a generic 2D Gaussian-like array (★★☆)"
      ],
      "metadata": {
        "id": "a2121a05"
      },
      "id": "a2121a05"
    },
    {
      "cell_type": "code",
      "source": [
        "X, Y = np.meshgrid(np.linspace(-1, 1, 10), np.linspace(-1, 1, 10))\n",
        "D = np.sqrt(X * X + Y * Y)\n",
        "sigma, mu = 1, 0\n",
        "G = np.exp(-((D - mu) ** 2 / ( 2 * sigma ** 2)))\n",
        "print(G)"
      ],
      "metadata": {
        "colab": {
          "base_uri": "https://localhost:8080/"
        },
        "id": "18507102",
        "outputId": "58c6d686-5ad1-4acd-bfd9-1de4b0615c78"
      },
      "execution_count": 56,
      "outputs": [
        {
          "output_type": "stream",
          "name": "stdout",
          "text": [
            "[[0.36787944 0.44822088 0.51979489 0.57375342 0.60279818 0.60279818\n",
            "  0.57375342 0.51979489 0.44822088 0.36787944]\n",
            " [0.44822088 0.54610814 0.63331324 0.69905581 0.73444367 0.73444367\n",
            "  0.69905581 0.63331324 0.54610814 0.44822088]\n",
            " [0.51979489 0.63331324 0.73444367 0.81068432 0.85172308 0.85172308\n",
            "  0.81068432 0.73444367 0.63331324 0.51979489]\n",
            " [0.57375342 0.69905581 0.81068432 0.89483932 0.9401382  0.9401382\n",
            "  0.89483932 0.81068432 0.69905581 0.57375342]\n",
            " [0.60279818 0.73444367 0.85172308 0.9401382  0.98773022 0.98773022\n",
            "  0.9401382  0.85172308 0.73444367 0.60279818]\n",
            " [0.60279818 0.73444367 0.85172308 0.9401382  0.98773022 0.98773022\n",
            "  0.9401382  0.85172308 0.73444367 0.60279818]\n",
            " [0.57375342 0.69905581 0.81068432 0.89483932 0.9401382  0.9401382\n",
            "  0.89483932 0.81068432 0.69905581 0.57375342]\n",
            " [0.51979489 0.63331324 0.73444367 0.81068432 0.85172308 0.85172308\n",
            "  0.81068432 0.73444367 0.63331324 0.51979489]\n",
            " [0.44822088 0.54610814 0.63331324 0.69905581 0.73444367 0.73444367\n",
            "  0.69905581 0.63331324 0.54610814 0.44822088]\n",
            " [0.36787944 0.44822088 0.51979489 0.57375342 0.60279818 0.60279818\n",
            "  0.57375342 0.51979489 0.44822088 0.36787944]]\n"
          ]
        }
      ],
      "id": "18507102"
    },
    {
      "cell_type": "markdown",
      "source": [
        "#### 57. How to randomly place p elements in a 2D array? (★★☆)"
      ],
      "metadata": {
        "id": "97055efa"
      },
      "id": "97055efa"
    },
    {
      "cell_type": "code",
      "source": [
        "p_elems = 3\n",
        "arr = np.zeros((5, 5))\n",
        "np.put(arr, np.random.choice(range(5 * 5), p_elems), 5)\n",
        "print(arr)"
      ],
      "metadata": {
        "colab": {
          "base_uri": "https://localhost:8080/"
        },
        "id": "292e842f",
        "outputId": "d96f2ef8-2377-4afc-e097-733795d09e25"
      },
      "execution_count": 53,
      "outputs": [
        {
          "output_type": "stream",
          "name": "stdout",
          "text": [
            "[[0. 0. 0. 0. 0.]\n",
            " [0. 0. 5. 0. 0.]\n",
            " [0. 0. 0. 0. 0.]\n",
            " [0. 5. 0. 0. 5.]\n",
            " [0. 0. 0. 0. 0.]]\n"
          ]
        }
      ],
      "id": "292e842f"
    },
    {
      "cell_type": "markdown",
      "source": [
        "#### 58. Subtract the mean of each row of a matrix (★★☆)"
      ],
      "metadata": {
        "id": "bfd2513c"
      },
      "id": "bfd2513c"
    },
    {
      "cell_type": "code",
      "source": [
        "arr = np.random.randint(0, 10, (3, 10))\n",
        "print(arr)\n",
        "\n",
        "Y = arr - arr.mean(axis=1, keepdims=True)\n",
        "print(Y)"
      ],
      "metadata": {
        "colab": {
          "base_uri": "https://localhost:8080/"
        },
        "id": "f306ab72",
        "outputId": "2f9ed79d-40fe-4d3d-d825-1cf6f2bbe5de"
      },
      "execution_count": 37,
      "outputs": [
        {
          "output_type": "stream",
          "name": "stdout",
          "text": [
            "[[7 9 4 7 6 4 1 0 2 9]\n",
            " [7 8 8 0 8 0 0 8 2 4]\n",
            " [1 0 5 0 7 8 5 1 9 0]]\n",
            "[[ 2.1  4.1 -0.9  2.1  1.1 -0.9 -3.9 -4.9 -2.9  4.1]\n",
            " [ 2.5  3.5  3.5 -4.5  3.5 -4.5 -4.5  3.5 -2.5 -0.5]\n",
            " [-2.6 -3.6  1.4 -3.6  3.4  4.4  1.4 -2.6  5.4 -3.6]]\n"
          ]
        }
      ],
      "id": "f306ab72"
    },
    {
      "cell_type": "markdown",
      "source": [
        "#### 59. How to sort an array by the nth column? (★★☆)"
      ],
      "metadata": {
        "id": "da9f2f9b"
      },
      "id": "da9f2f9b"
    },
    {
      "cell_type": "code",
      "source": [
        "arr = np.random.randint(0, 10, (5, 5))\n",
        "print(arr)\n",
        "print(arr[arr[:, 1].argsort()])"
      ],
      "metadata": {
        "colab": {
          "base_uri": "https://localhost:8080/"
        },
        "id": "68cde57f",
        "outputId": "f58b681d-de10-4d62-c2ab-0c6c0184dae8"
      },
      "execution_count": 41,
      "outputs": [
        {
          "output_type": "stream",
          "name": "stdout",
          "text": [
            "[[0 8 7 3 4]\n",
            " [7 1 4 1 6]\n",
            " [5 1 4 8 8]\n",
            " [7 7 9 3 3]\n",
            " [3 9 5 4 3]]\n",
            "[[7 1 4 1 6]\n",
            " [5 1 4 8 8]\n",
            " [7 7 9 3 3]\n",
            " [0 8 7 3 4]\n",
            " [3 9 5 4 3]]\n"
          ]
        }
      ],
      "id": "68cde57f"
    },
    {
      "cell_type": "markdown",
      "source": [
        "#### 60. How to tell if a given 2D array has null columns? (★★☆)"
      ],
      "metadata": {
        "id": "5b7be45c"
      },
      "id": "5b7be45c"
    },
    {
      "cell_type": "code",
      "source": [
        "arr = np.random.randint(0, 10, (5, 5))\n",
        "print(arr)\n",
        "\n",
        "counter = 0\n",
        "\n",
        "for i in range(len(arr)):\n",
        "  for j in range(len(arr[i])):\n",
        "    if arr[i, j] == 0:\n",
        "      print('Null element')\n",
        "      print('Row: ', i)\n",
        "      print('Column: ', j)\n",
        "      counter += 1\n",
        "if counter == 0:\n",
        "  print('No null elements')"
      ],
      "metadata": {
        "colab": {
          "base_uri": "https://localhost:8080/"
        },
        "id": "7dbe2c27",
        "outputId": "f388ea35-b6aa-447c-b3ec-77fa225d3cee"
      },
      "execution_count": 46,
      "outputs": [
        {
          "output_type": "stream",
          "name": "stdout",
          "text": [
            "[[2 4 8 8 2]\n",
            " [3 2 3 1 3]\n",
            " [4 8 8 1 4]\n",
            " [8 8 2 9 1]\n",
            " [4 7 2 5 1]]\n",
            "No null elements\n"
          ]
        }
      ],
      "id": "7dbe2c27"
    },
    {
      "cell_type": "code",
      "source": [
        "# null : 0 \n",
        "Z = np.random.randint(0,3,(3,10))\n",
        "print(Z)\n",
        "print((~Z.any(axis=0)).any())\n",
        "\n",
        "# null : np.nan\n",
        "Z=np.array([\n",
        "    [0,1,np.nan],\n",
        "    [1,2,np.nan],\n",
        "    [4,5,np.nan]\n",
        "])\n",
        "print(Z)\n",
        "print(np.isnan(Z).all(axis=0))"
      ],
      "metadata": {
        "colab": {
          "base_uri": "https://localhost:8080/"
        },
        "id": "4diX_WXMeDuG",
        "outputId": "70a7f26a-7499-4836-af31-e4d69bc2bd21"
      },
      "id": "4diX_WXMeDuG",
      "execution_count": 49,
      "outputs": [
        {
          "output_type": "stream",
          "name": "stdout",
          "text": [
            "[[0 2 0 0 1 1 2 0 2 1]\n",
            " [2 1 0 2 2 0 1 0 0 2]\n",
            " [0 0 2 1 2 1 1 0 2 2]]\n",
            "True\n",
            "[[ 0.  1. nan]\n",
            " [ 1.  2. nan]\n",
            " [ 4.  5. nan]]\n",
            "[False False  True]\n"
          ]
        }
      ]
    },
    {
      "cell_type": "markdown",
      "source": [
        "#### 61. Find the nearest value from a given value in an array (★★☆)"
      ],
      "metadata": {
        "id": "7c18c02e"
      },
      "id": "7c18c02e"
    },
    {
      "cell_type": "code",
      "source": [
        "arr = np.random.random(10)\n",
        "num = 0.5\n",
        "nearest = []\n",
        "\n",
        "for i, elem in enumerate(arr):\n",
        "  nearest.append(abs(num - elem))\n",
        "\n",
        "nearest_val = arr[nearest.index(min(nearest))]\n",
        "print(arr)\n",
        "print(nearest_val)"
      ],
      "metadata": {
        "colab": {
          "base_uri": "https://localhost:8080/"
        },
        "id": "b78ae9c4",
        "outputId": "9b85afd1-f1c8-4d30-c451-c276de00e3e9"
      },
      "execution_count": 12,
      "outputs": [
        {
          "output_type": "stream",
          "name": "stdout",
          "text": [
            "[0.99570976 0.3546234  0.60863817 0.92801004 0.40211675 0.96415239\n",
            " 0.83550853 0.05636999 0.31176494 0.59980613]\n",
            "0.4021167524604351\n"
          ]
        }
      ],
      "id": "b78ae9c4"
    },
    {
      "cell_type": "code",
      "source": [
        "Z = np.random.uniform(0,1,10)\n",
        "z = 0.5\n",
        "m = Z.flat[np.abs(Z - z).argmin()]\n",
        "print(Z)\n",
        "print(m)"
      ],
      "metadata": {
        "colab": {
          "base_uri": "https://localhost:8080/"
        },
        "id": "23o0fFhXYXdo",
        "outputId": "0d1f73b1-b101-4205-ca1b-376e210fcce7"
      },
      "id": "23o0fFhXYXdo",
      "execution_count": 15,
      "outputs": [
        {
          "output_type": "stream",
          "name": "stdout",
          "text": [
            "[0.08531948 0.02032124 0.04394156 0.93192978 0.72575242 0.47834625\n",
            " 0.93206785 0.52943344 0.56138369 0.96479404]\n",
            "0.47834624936862524\n"
          ]
        }
      ]
    },
    {
      "cell_type": "markdown",
      "source": [
        "#### 62. Considering two arrays with shape (1,3) and (3,1), how to compute their sum using an iterator? (★★☆)"
      ],
      "metadata": {
        "id": "8174ba2c"
      },
      "id": "8174ba2c"
    },
    {
      "cell_type": "code",
      "source": [
        "A = np.arange(3).reshape(3,1)\n",
        "B = np.arange(3).reshape(1,3)\n",
        "it = np.nditer([A,B,None])\n",
        "for x,y,z in it: z[...] = x + y\n",
        "print(it.operands[2])"
      ],
      "metadata": {
        "colab": {
          "base_uri": "https://localhost:8080/"
        },
        "id": "8a18fe57",
        "outputId": "d722f491-f6d0-44b1-fefd-daa338448e46"
      },
      "execution_count": 22,
      "outputs": [
        {
          "output_type": "stream",
          "name": "stdout",
          "text": [
            "[[0 1 2]\n",
            " [1 2 3]\n",
            " [2 3 4]]\n"
          ]
        }
      ],
      "id": "8a18fe57"
    },
    {
      "cell_type": "markdown",
      "source": [
        "#### 63. Create an array class that has a name attribute (★★☆)"
      ],
      "metadata": {
        "id": "9189bd7c"
      },
      "id": "9189bd7c"
    },
    {
      "cell_type": "code",
      "source": [
        "class Array:\n",
        "  def __init__(self, arr, name):\n",
        "      self.arr = arr\n",
        "      self.name = name\n",
        "\n",
        "  def printing(self):\n",
        "      print(self.name)\n",
        "      print(self.arr)\n",
        "\n",
        "arr = Array(np.arange(10), \"Array size is 10\")\n",
        "arr.printing()"
      ],
      "metadata": {
        "colab": {
          "base_uri": "https://localhost:8080/"
        },
        "id": "1c01ed42",
        "outputId": "2a8de865-e4df-4923-a565-6f691bccfe4f"
      },
      "execution_count": 20,
      "outputs": [
        {
          "output_type": "stream",
          "name": "stdout",
          "text": [
            "Array size is 10\n",
            "[0 1 2 3 4 5 6 7 8 9]\n"
          ]
        }
      ],
      "id": "1c01ed42"
    },
    {
      "cell_type": "markdown",
      "source": [
        "#### 64. Consider a given vector, how to add 1 to each element indexed by a second vector (be careful with repeated indices)? (★★★)"
      ],
      "metadata": {
        "id": "f30162d2"
      },
      "id": "f30162d2"
    },
    {
      "cell_type": "code",
      "source": [
        "arr = np.ones(5)\n",
        "print(arr)\n",
        "idx = np.random.randint(0, len(arr), 10)\n",
        "print(idx)\n",
        "arr += np.bincount(idx, minlength=len(arr))\n",
        "print(arr)"
      ],
      "metadata": {
        "colab": {
          "base_uri": "https://localhost:8080/"
        },
        "id": "093ba36f",
        "outputId": "e63c1a42-c7d7-496f-b97d-629e07d35287"
      },
      "execution_count": 190,
      "outputs": [
        {
          "output_type": "stream",
          "name": "stdout",
          "text": [
            "[1. 1. 1. 1. 1.]\n",
            "[4 2 3 2 3 4 1 1 3 3]\n",
            "[1. 3. 3. 5. 3.]\n"
          ]
        }
      ],
      "id": "093ba36f"
    },
    {
      "cell_type": "markdown",
      "source": [
        "#### 65. How to accumulate elements of a vector (X) to an array (F) based on an index list (I)? (★★★)"
      ],
      "metadata": {
        "id": "f5b1c584"
      },
      "id": "f5b1c584"
    },
    {
      "cell_type": "code",
      "source": [
        "X = [1,2,3,4,5,6]\n",
        "I = [1,3,9,3,4,1]\n",
        "F = np.bincount(I,X)\n",
        "print(F)"
      ],
      "metadata": {
        "colab": {
          "base_uri": "https://localhost:8080/"
        },
        "id": "c9d92a75",
        "outputId": "72ff09e3-d512-4695-ad59-649cc4e75c7a"
      },
      "execution_count": 191,
      "outputs": [
        {
          "output_type": "stream",
          "name": "stdout",
          "text": [
            "[0. 7. 0. 6. 5. 0. 0. 0. 0. 3.]\n"
          ]
        }
      ],
      "id": "c9d92a75"
    },
    {
      "cell_type": "markdown",
      "source": [
        "#### 66. Considering a (w,h,3) image of (dtype=ubyte), compute the number of unique colors (★★☆)"
      ],
      "metadata": {
        "id": "994c452d"
      },
      "id": "994c452d"
    },
    {
      "cell_type": "code",
      "source": [
        "w, h = 256, 256\n",
        "idx = np.random.randint(0, 4, (h, w, 3)).astype(np.ubyte)\n",
        "colors = np.unique(idx.reshape(-1, 3), axis=0)\n",
        "n = len(colors)\n",
        "print(n)"
      ],
      "metadata": {
        "colab": {
          "base_uri": "https://localhost:8080/"
        },
        "id": "269cdaea",
        "outputId": "c5125d60-e9ce-49a2-e6fb-9cd5ac95afd8"
      },
      "execution_count": 197,
      "outputs": [
        {
          "output_type": "stream",
          "name": "stdout",
          "text": [
            "64\n"
          ]
        }
      ],
      "id": "269cdaea"
    },
    {
      "cell_type": "markdown",
      "source": [
        "#### 67. Considering a four dimensions array, how to get sum over the last two axis at once? (★★★)"
      ],
      "metadata": {
        "id": "4bddeb31"
      },
      "id": "4bddeb31"
    },
    {
      "cell_type": "code",
      "source": [
        "arr = np.random.randint(0, 10, (3, 4, 3, 4))\n",
        "print(arr)\n",
        "\n",
        "for i in range(3):\n",
        "  for j in range(4):\n",
        "    sum = np.sum(arr[i, j])\n",
        "    print(sum)"
      ],
      "metadata": {
        "colab": {
          "base_uri": "https://localhost:8080/"
        },
        "id": "32af15f5",
        "outputId": "3ab06136-8af7-49c3-a62a-4d2c0617bc6e"
      },
      "execution_count": 215,
      "outputs": [
        {
          "output_type": "stream",
          "name": "stdout",
          "text": [
            "[[[[9 6 5 2]\n",
            "   [9 7 5 1]\n",
            "   [3 1 8 6]]\n",
            "\n",
            "  [[5 1 2 7]\n",
            "   [0 7 1 2]\n",
            "   [7 5 0 9]]\n",
            "\n",
            "  [[6 6 2 6]\n",
            "   [9 2 8 2]\n",
            "   [3 6 8 9]]\n",
            "\n",
            "  [[9 2 8 7]\n",
            "   [7 3 5 9]\n",
            "   [1 0 7 3]]]\n",
            "\n",
            "\n",
            " [[[0 9 5 1]\n",
            "   [7 9 3 3]\n",
            "   [7 0 4 6]]\n",
            "\n",
            "  [[0 3 8 3]\n",
            "   [1 7 2 5]\n",
            "   [9 6 8 1]]\n",
            "\n",
            "  [[2 5 4 5]\n",
            "   [0 6 9 8]\n",
            "   [5 0 3 9]]\n",
            "\n",
            "  [[6 6 7 4]\n",
            "   [1 6 5 0]\n",
            "   [1 8 2 9]]]\n",
            "\n",
            "\n",
            " [[[7 7 9 5]\n",
            "   [7 9 2 7]\n",
            "   [2 5 3 4]]\n",
            "\n",
            "  [[6 4 1 2]\n",
            "   [9 9 4 5]\n",
            "   [3 5 8 9]]\n",
            "\n",
            "  [[2 9 9 0]\n",
            "   [9 7 4 2]\n",
            "   [8 3 2 6]]\n",
            "\n",
            "  [[8 4 1 6]\n",
            "   [5 0 0 3]\n",
            "   [4 9 3 3]]]]\n",
            "62\n",
            "46\n",
            "67\n",
            "61\n",
            "54\n",
            "53\n",
            "56\n",
            "55\n",
            "67\n",
            "65\n",
            "61\n",
            "46\n"
          ]
        }
      ],
      "id": "32af15f5"
    },
    {
      "cell_type": "markdown",
      "source": [
        "#### 68. Considering a one-dimensional vector D, how to compute means of subsets of D using a vector S of same size describing subset  indices? (★★★)"
      ],
      "metadata": {
        "id": "c4cf083c"
      },
      "id": "c4cf083c"
    },
    {
      "cell_type": "code",
      "source": [
        "import pandas as pd\n",
        "\n",
        "D = np.random.uniform(0, 1, 100)\n",
        "S = np.random.randint(0, 10, 100)\n",
        "\n",
        "print(pd.Series(D).groupby(S).mean())"
      ],
      "metadata": {
        "colab": {
          "base_uri": "https://localhost:8080/"
        },
        "id": "9600a2dd",
        "outputId": "3a6a34da-985f-474e-b4ff-b57af1f5b8b7"
      },
      "execution_count": 243,
      "outputs": [
        {
          "output_type": "stream",
          "name": "stdout",
          "text": [
            "0    0.605863\n",
            "1    0.410571\n",
            "2    0.507454\n",
            "3    0.570732\n",
            "4    0.582303\n",
            "5    0.427760\n",
            "6    0.410593\n",
            "7    0.341340\n",
            "8    0.482951\n",
            "9    0.581752\n",
            "dtype: float64\n"
          ]
        }
      ],
      "id": "9600a2dd"
    },
    {
      "cell_type": "markdown",
      "source": [
        "#### 69. How to get the diagonal of a dot product? (★★★)"
      ],
      "metadata": {
        "id": "a5e316db"
      },
      "id": "a5e316db"
    },
    {
      "cell_type": "code",
      "source": [
        "arr1 = np.random.randint(0, 2,(5, 5))\n",
        "print(arr1)\n",
        "arr2 = np.random.randint(0, 2,(5, 5))\n",
        "print(arr2)\n",
        "\n",
        "print(np.diag(np.dot(arr1, arr2)))"
      ],
      "metadata": {
        "colab": {
          "base_uri": "https://localhost:8080/"
        },
        "id": "94735dbd",
        "outputId": "f900c613-3fbe-4ed4-a46a-1107c4ec8d27"
      },
      "execution_count": 216,
      "outputs": [
        {
          "output_type": "stream",
          "name": "stdout",
          "text": [
            "[[0 1 1 0 1]\n",
            " [1 0 1 1 1]\n",
            " [1 1 1 0 1]\n",
            " [0 0 0 1 0]\n",
            " [1 1 0 0 0]]\n",
            "[[0 0 0 0 1]\n",
            " [1 0 1 1 1]\n",
            " [0 1 0 1 0]\n",
            " [1 1 0 1 1]\n",
            " [0 1 1 1 0]]\n",
            "[1 3 2 1 2]\n"
          ]
        }
      ],
      "id": "94735dbd"
    },
    {
      "cell_type": "markdown",
      "source": [
        "#### 70. Consider the vector [1, 2, 3, 4, 5], how to build a new vector with 3 consecutive zeros interleaved between each value? (★★★)"
      ],
      "metadata": {
        "id": "de727a7b"
      },
      "id": "de727a7b"
    },
    {
      "cell_type": "code",
      "source": [
        "arr = np.arange(1, 5 + 1)\n",
        "print(arr)\n",
        "\n",
        "zero = np.zeros(3)\n",
        "print(zero)\n",
        "\n",
        "for i in range(1, len(arr) * len(zero), 4):\n",
        "  arr = np.insert(arr, i, zero)\n",
        "\n",
        "print(arr)"
      ],
      "metadata": {
        "colab": {
          "base_uri": "https://localhost:8080/"
        },
        "id": "m8yxIEGznAvD",
        "outputId": "c01e8fdc-dd23-441d-d001-82771718dd24"
      },
      "id": "m8yxIEGznAvD",
      "execution_count": 238,
      "outputs": [
        {
          "output_type": "stream",
          "name": "stdout",
          "text": [
            "[1 2 3 4 5]\n",
            "[0. 0. 0.]\n",
            "[1 0 0 0 2 0 0 0 3 0 0 0 4 0 0 0 5]\n"
          ]
        }
      ]
    },
    {
      "cell_type": "markdown",
      "source": [
        "#### 71. Consider an array of dimension (5,5,3), how to mulitply it by an array with dimensions (5,5)? (★★★)"
      ],
      "metadata": {
        "id": "a9a73d6b"
      },
      "id": "a9a73d6b"
    },
    {
      "cell_type": "code",
      "source": [
        "arr1 = np.random.randint(0, 5, (5, 5, 3))\n",
        "arr2 = np.random.randint(0, 5, (5, 5))\n",
        "print(arr1 * arr2[:, :, None])"
      ],
      "metadata": {
        "colab": {
          "base_uri": "https://localhost:8080/"
        },
        "id": "282a90cc",
        "outputId": "aeb3ed9d-2d08-4099-fe97-3f60914fa18b"
      },
      "execution_count": 240,
      "outputs": [
        {
          "output_type": "stream",
          "name": "stdout",
          "text": [
            "[[[ 0  0  0]\n",
            "  [ 9  3 12]\n",
            "  [12 12  0]\n",
            "  [ 0  0  0]\n",
            "  [ 6  0  0]]\n",
            "\n",
            " [[ 0  0  0]\n",
            "  [ 1  1  1]\n",
            "  [ 0  0  0]\n",
            "  [12  9  6]\n",
            "  [ 3  4  0]]\n",
            "\n",
            " [[ 0  0  0]\n",
            "  [ 9 12 12]\n",
            "  [ 4  0  4]\n",
            "  [ 9 12 12]\n",
            "  [ 9  0  0]]\n",
            "\n",
            " [[ 0  0  0]\n",
            "  [ 1  3  2]\n",
            "  [ 4  3  2]\n",
            "  [ 2  2  8]\n",
            "  [12 12 16]]\n",
            "\n",
            " [[ 2  4  8]\n",
            "  [ 2  2  8]\n",
            "  [ 0  0  8]\n",
            "  [ 0  2  1]\n",
            "  [ 0  0  0]]]\n"
          ]
        }
      ],
      "id": "282a90cc"
    },
    {
      "cell_type": "markdown",
      "source": [
        "#### 72. How to swap two rows of an array? (★★★)"
      ],
      "metadata": {
        "id": "a951c78f"
      },
      "id": "a951c78f"
    },
    {
      "cell_type": "code",
      "source": [
        "arr = np.random.randint(0, 10, (3, 10))\n",
        "print(arr)\n",
        "\n",
        "arr[[0, -1]] = arr[[-1, 0]]\n",
        "print(arr)"
      ],
      "metadata": {
        "colab": {
          "base_uri": "https://localhost:8080/"
        },
        "id": "e29b3fde",
        "outputId": "a5513bb1-d52d-4581-ae04-32e26c055fae"
      },
      "execution_count": 72,
      "outputs": [
        {
          "output_type": "stream",
          "name": "stdout",
          "text": [
            "[[5 1 3 9 9 6 7 2 1 2]\n",
            " [1 3 6 3 5 7 6 9 4 3]\n",
            " [3 9 0 7 9 2 1 5 2 9]]\n",
            "[[3 9 0 7 9 2 1 5 2 9]\n",
            " [1 3 6 3 5 7 6 9 4 3]\n",
            " [5 1 3 9 9 6 7 2 1 2]]\n"
          ]
        }
      ],
      "id": "e29b3fde"
    },
    {
      "cell_type": "markdown",
      "source": [
        "#### 73. Consider a set of 10 triplets describing 10 triangles (with shared vertices), find the set of unique line segments composing all the  triangles (★★★)"
      ],
      "metadata": {
        "id": "43b639e8"
      },
      "id": "43b639e8"
    },
    {
      "cell_type": "code",
      "source": [
        "faces = np.random.randint(0, 100, (10, 3))\n",
        "F = np.roll(faces.repeat(2,axis=1),-1,axis=1)\n",
        "F = F.reshape(len(F)*3,2)\n",
        "F = np.sort(F,axis=1)\n",
        "G = F.view( dtype=[('p0',F.dtype),('p1',F.dtype)] )\n",
        "G = np.unique(G)\n",
        "print(G)"
      ],
      "metadata": {
        "colab": {
          "base_uri": "https://localhost:8080/"
        },
        "id": "147e1034",
        "outputId": "aa22c3ce-3619-4928-fbec-f013e85bc761"
      },
      "execution_count": 74,
      "outputs": [
        {
          "output_type": "stream",
          "name": "stdout",
          "text": [
            "[( 0,  1) ( 0, 60) ( 1, 60) ( 5, 62) ( 5, 81) (11, 20) (11, 91) (14, 29)\n",
            " (14, 56) (14, 59) (14, 97) (15, 39) (15, 79) (15, 81) (15, 92) (18, 40)\n",
            " (18, 88) (20, 91) (23, 26) (23, 70) (26, 70) (29, 59) (39, 79) (40, 88)\n",
            " (47, 75) (47, 95) (56, 97) (62, 81) (75, 95) (81, 92)]\n"
          ]
        }
      ],
      "id": "147e1034"
    },
    {
      "cell_type": "markdown",
      "source": [
        "#### 74. Given a sorted array C that corresponds to a bincount, how to produce an array A such that np.bincount(A) == C? (★★★)"
      ],
      "metadata": {
        "id": "d41de585"
      },
      "id": "d41de585"
    },
    {
      "cell_type": "code",
      "source": [
        "C = np.bincount([1,1,2,3,4,4,6])\n",
        "A = np.repeat(np.arange(len(C)), C)\n",
        "print(A)"
      ],
      "metadata": {
        "colab": {
          "base_uri": "https://localhost:8080/"
        },
        "id": "5f5d6e36",
        "outputId": "ca5d4c12-3c81-425e-d9fc-52b1d4ce21f9"
      },
      "execution_count": 75,
      "outputs": [
        {
          "output_type": "stream",
          "name": "stdout",
          "text": [
            "[1 1 2 3 4 4 6]\n"
          ]
        }
      ],
      "id": "5f5d6e36"
    },
    {
      "cell_type": "markdown",
      "source": [
        "#### 75. How to compute averages using a sliding window over an array? (★★★)"
      ],
      "metadata": {
        "id": "b50adf7c"
      },
      "id": "b50adf7c"
    },
    {
      "cell_type": "code",
      "source": [
        "from numpy.lib.stride_tricks import sliding_window_view\n",
        "\n",
        "arr = np.arange(20)\n",
        "print(arr)\n",
        "print(sliding_window_view(arr, window_shape=3).mean(axis=-1))"
      ],
      "metadata": {
        "colab": {
          "base_uri": "https://localhost:8080/"
        },
        "id": "e631a9d2",
        "outputId": "5ff382d3-f398-40ba-d957-f78d4082ecc3"
      },
      "execution_count": 81,
      "outputs": [
        {
          "output_type": "stream",
          "name": "stdout",
          "text": [
            "[ 0  1  2  3  4  5  6  7  8  9 10 11 12 13 14 15 16 17 18 19]\n",
            "[ 1.  2.  3.  4.  5.  6.  7.  8.  9. 10. 11. 12. 13. 14. 15. 16. 17. 18.]\n"
          ]
        }
      ],
      "id": "e631a9d2"
    },
    {
      "cell_type": "markdown",
      "source": [
        "#### 76. Consider a one-dimensional array Z, build a two-dimensional array whose first row is (Z[0],Z[1],Z[2]) and each subsequent row is  shifted by 1 (last row should be (Z[-3],Z[-2],Z[-1]) (★★★)"
      ],
      "metadata": {
        "id": "1ab4c50d"
      },
      "id": "1ab4c50d"
    },
    {
      "cell_type": "code",
      "source": [
        "arr = np.arange(20)\n",
        "print(arr)\n",
        "print(sliding_window_view(arr, window_shape = 3))"
      ],
      "metadata": {
        "colab": {
          "base_uri": "https://localhost:8080/"
        },
        "id": "3ccfe2c0",
        "outputId": "b8cf3115-8b7e-4bfa-d997-8fc56b132afd"
      },
      "execution_count": 80,
      "outputs": [
        {
          "output_type": "stream",
          "name": "stdout",
          "text": [
            "[ 0  1  2  3  4  5  6  7  8  9 10 11 12 13 14 15 16 17 18 19]\n",
            "[[ 0  1  2]\n",
            " [ 1  2  3]\n",
            " [ 2  3  4]\n",
            " [ 3  4  5]\n",
            " [ 4  5  6]\n",
            " [ 5  6  7]\n",
            " [ 6  7  8]\n",
            " [ 7  8  9]\n",
            " [ 8  9 10]\n",
            " [ 9 10 11]\n",
            " [10 11 12]\n",
            " [11 12 13]\n",
            " [12 13 14]\n",
            " [13 14 15]\n",
            " [14 15 16]\n",
            " [15 16 17]\n",
            " [16 17 18]\n",
            " [17 18 19]]\n"
          ]
        }
      ],
      "id": "3ccfe2c0"
    },
    {
      "cell_type": "markdown",
      "source": [
        "#### 77. How to negate a boolean, or to change the sign of a float inplace? (★★★)"
      ],
      "metadata": {
        "id": "5b4fe59d"
      },
      "id": "5b4fe59d"
    },
    {
      "cell_type": "code",
      "source": [
        "arr = np.random.randint(0, 2, 10)\n",
        "print(arr)\n",
        "print(np.logical_not(arr, out = arr))"
      ],
      "metadata": {
        "colab": {
          "base_uri": "https://localhost:8080/"
        },
        "id": "3c2373ff",
        "outputId": "47609781-05b3-4b24-f52c-e4e39e8f4f2f"
      },
      "execution_count": 87,
      "outputs": [
        {
          "output_type": "stream",
          "name": "stdout",
          "text": [
            "[0 1 0 1 1 1 0 0 0 0]\n",
            "[1 0 1 0 0 0 1 1 1 1]\n"
          ]
        }
      ],
      "id": "3c2373ff"
    },
    {
      "cell_type": "markdown",
      "source": [
        "#### 78. Consider 2 sets of points P0,P1 describing lines (2d) and a point p, how to compute distance from p to each line i (P0[i],P1[i])? (★★★)"
      ],
      "metadata": {
        "id": "119ab5af"
      },
      "id": "119ab5af"
    },
    {
      "cell_type": "code",
      "source": [
        "def distance(P0, P1, p):\n",
        "    T = P1 - P0\n",
        "    L = (T ** 2).sum(axis=1)\n",
        "    U = -((P0[:, 0] - p[..., 0]) * T[:, 0] + (P0[:, 1] - p[..., 1]) * T[:, 1]) / L\n",
        "    U = U.reshape(len(U), 1)\n",
        "    D = P0 + U * T - p\n",
        "    return np.sqrt((D ** 2).sum(axis=1))\n",
        " \n",
        "P0 = np.random.randint(-5, 5, (10, 2))\n",
        "print(P0)\n",
        "P1 = np.random.randint(-5, 5, (10, 2))\n",
        "print(P1)\n",
        "p  = np.random.randint(-5, 5, (1, 2))\n",
        "print(p)\n",
        "print(distance(P0, P1, p))"
      ],
      "metadata": {
        "colab": {
          "base_uri": "https://localhost:8080/"
        },
        "id": "1d8d06dc",
        "outputId": "2d9238f8-8b5c-46ef-e090-486e1879a0af"
      },
      "execution_count": 247,
      "outputs": [
        {
          "output_type": "stream",
          "name": "stdout",
          "text": [
            "[[ 0 -1]\n",
            " [-4  1]\n",
            " [ 0 -5]\n",
            " [ 4 -2]\n",
            " [ 4 -5]\n",
            " [ 2  3]\n",
            " [ 1  1]\n",
            " [-3 -5]\n",
            " [-2  4]\n",
            " [-4 -1]]\n",
            "[[ 1  3]\n",
            " [ 3  1]\n",
            " [ 3 -5]\n",
            " [-5  4]\n",
            " [ 2 -4]\n",
            " [ 3  1]\n",
            " [ 3 -3]\n",
            " [ 4 -5]\n",
            " [ 0  1]\n",
            " [ 3  0]]\n",
            "[[ 0 -5]]\n",
            "[0.9701425  6.         0.         4.71495167 1.78885438 5.36656315\n",
            " 3.57770876 0.         3.32820118 4.5254834 ]\n"
          ]
        }
      ],
      "id": "1d8d06dc"
    },
    {
      "cell_type": "markdown",
      "source": [
        "#### 79. Consider 2 sets of points P0,P1 describing lines (2d) and a set of points P, how to compute distance from each point j (P[j]) to each line i (P0[i],P1[i])? (★★★)"
      ],
      "metadata": {
        "id": "e5e7f323"
      },
      "id": "e5e7f323"
    },
    {
      "cell_type": "code",
      "source": [
        "def distance(P0, P1, p):\n",
        "    T = P1 - P0\n",
        "    L = (T ** 2).sum(axis=1)\n",
        "    U = -((P0[:, 0] - p[..., 0]) * T[:, 0] + (P0[:, 1] - p[..., 1]) * T[:, 1]) / L\n",
        "    U = U.reshape(len(U), 1)\n",
        "    D = P0 + U * T - p\n",
        "    return np.sqrt((D ** 2).sum(axis=1))\n",
        " \n",
        "P0 = np.random.randint(-5, 5, (10, 2))\n",
        "print(P0)\n",
        "P1 = np.random.randint(-5, 5, (10, 2))\n",
        "print(P1)\n",
        "p  = np.random.randint(-5, 5, (1, 2))\n",
        "print(p)\n",
        "print(np.array([distance(P0, P1, i) for i in p]))"
      ],
      "metadata": {
        "colab": {
          "base_uri": "https://localhost:8080/"
        },
        "id": "d0ce77e2",
        "outputId": "6abcb87d-1a85-4392-d307-2b75d9fe248f"
      },
      "execution_count": 249,
      "outputs": [
        {
          "output_type": "stream",
          "name": "stdout",
          "text": [
            "[[ 0  1]\n",
            " [-1  4]\n",
            " [-3  0]\n",
            " [ 3  0]\n",
            " [ 2  2]\n",
            " [ 4 -2]\n",
            " [ 3 -5]\n",
            " [-3  1]\n",
            " [ 1 -3]\n",
            " [ 3  4]]\n",
            "[[-4  2]\n",
            " [ 0 -2]\n",
            " [-2  4]\n",
            " [ 1 -2]\n",
            " [-4  3]\n",
            " [-1 -1]\n",
            " [-1 -4]\n",
            " [ 4  0]\n",
            " [-2 -5]\n",
            " [-5 -2]]\n",
            "[[ 0 -2]]\n",
            "[[2.9104275  0.         3.39549875 0.70710678 4.27437367 0.78446454\n",
            "  2.18282063 2.54558441 1.38675049 3.        ]]\n"
          ]
        }
      ],
      "id": "d0ce77e2"
    },
    {
      "cell_type": "markdown",
      "source": [
        "#### 80. Consider an arbitrary array, write a function that extract a subpart with a fixed shape and centered on a given element (pad with a `fill` value when necessary) (★★★)"
      ],
      "metadata": {
        "id": "9b9d03eb"
      },
      "id": "9b9d03eb"
    },
    {
      "cell_type": "code",
      "source": [
        "# ???\n",
        "\n",
        "Z = np.random.randint(0,10,(10,10))\n",
        "shape = (5,5)\n",
        "fill  = 0\n",
        "position = (1,1)\n",
        "\n",
        "R = np.ones(shape, dtype=Z.dtype)*fill\n",
        "P  = np.array(list(position)).astype(int)\n",
        "Rs = np.array(list(R.shape)).astype(int)\n",
        "Zs = np.array(list(Z.shape)).astype(int)\n",
        "\n",
        "R_start = np.zeros((len(shape),)).astype(int)\n",
        "R_stop  = np.array(list(shape)).astype(int)\n",
        "Z_start = (P-Rs//2)\n",
        "Z_stop  = (P+Rs//2)+Rs%2\n",
        "\n",
        "R_start = (R_start - np.minimum(Z_start,0)).tolist()\n",
        "Z_start = (np.maximum(Z_start,0)).tolist()\n",
        "R_stop = np.maximum(R_start, (R_stop - np.maximum(Z_stop-Zs,0))).tolist()\n",
        "Z_stop = (np.minimum(Z_stop,Zs)).tolist()\n",
        "\n",
        "r = [slice(start,stop) for start,stop in zip(R_start,R_stop)]\n",
        "z = [slice(start,stop) for start,stop in zip(Z_start,Z_stop)]\n",
        "R[r] = Z[z]\n",
        "print(Z)\n",
        "print(R)"
      ],
      "metadata": {
        "colab": {
          "base_uri": "https://localhost:8080/"
        },
        "id": "ec2b7ae3",
        "outputId": "78dd99a3-e07c-4c3e-f068-a341fc71e515"
      },
      "execution_count": 250,
      "outputs": [
        {
          "output_type": "stream",
          "name": "stdout",
          "text": [
            "[[1 0 4 7 4 9 1 5 6 0]\n",
            " [5 7 3 0 5 6 2 5 5 0]\n",
            " [7 5 8 3 0 2 3 2 8 2]\n",
            " [4 9 0 5 3 6 9 2 5 4]\n",
            " [7 6 4 6 7 2 3 4 3 8]\n",
            " [5 2 8 5 8 9 4 0 3 8]\n",
            " [9 7 5 4 4 9 3 9 1 7]\n",
            " [4 9 8 5 9 8 1 2 6 6]\n",
            " [4 3 4 6 9 7 5 2 1 8]\n",
            " [3 1 7 0 8 7 2 9 8 5]]\n",
            "[[0 0 0 0 0]\n",
            " [0 1 0 4 7]\n",
            " [0 5 7 3 0]\n",
            " [0 7 5 8 3]\n",
            " [0 4 9 0 5]]\n"
          ]
        },
        {
          "output_type": "stream",
          "name": "stderr",
          "text": [
            "<ipython-input-250-f2b5781f38bf>:23: FutureWarning: Using a non-tuple sequence for multidimensional indexing is deprecated; use `arr[tuple(seq)]` instead of `arr[seq]`. In the future this will be interpreted as an array index, `arr[np.array(seq)]`, which will result either in an error or a different result.\n",
            "  R[r] = Z[z]\n"
          ]
        }
      ],
      "id": "ec2b7ae3"
    },
    {
      "cell_type": "markdown",
      "source": [
        "#### 81. Consider an array Z = [1,2,3,4,5,6,7,8,9,10,11,12,13,14], how to generate an array R = [[1,2,3,4], [2,3,4,5], [3,4,5,6], ..., [11,12,13,14]]? (★★★)"
      ],
      "metadata": {
        "id": "27794913"
      },
      "id": "27794913"
    },
    {
      "cell_type": "code",
      "source": [
        "Z = [1,2,3,4,5,6,7,8,9,10,11,12,13,14]\n",
        "R = []\n",
        "for i, elem in enumerate(Z):\n",
        "    r = Z[i:(i + 4)]\n",
        "    if len(r) == 4:\n",
        "        R.append(r)\n",
        "        print(R[i])"
      ],
      "metadata": {
        "colab": {
          "base_uri": "https://localhost:8080/"
        },
        "id": "f3e7878b",
        "outputId": "28713aa8-133c-4c11-b447-99831b34bb9a"
      },
      "execution_count": 125,
      "outputs": [
        {
          "output_type": "stream",
          "name": "stdout",
          "text": [
            "[1, 2, 3, 4]\n",
            "[2, 3, 4, 5]\n",
            "[3, 4, 5, 6]\n",
            "[4, 5, 6, 7]\n",
            "[5, 6, 7, 8]\n",
            "[6, 7, 8, 9]\n",
            "[7, 8, 9, 10]\n",
            "[8, 9, 10, 11]\n",
            "[9, 10, 11, 12]\n",
            "[10, 11, 12, 13]\n",
            "[11, 12, 13, 14]\n"
          ]
        }
      ],
      "id": "f3e7878b"
    },
    {
      "cell_type": "markdown",
      "source": [
        "#### 82. Compute a matrix rank (★★★)"
      ],
      "metadata": {
        "id": "fae786f5"
      },
      "id": "fae786f5"
    },
    {
      "cell_type": "code",
      "source": [
        "Z = np.random.uniform(0,1,(10,10))\n",
        "U, S, V = np.linalg.svd(Z) # Singular Value Decomposition\n",
        "rank = np.sum(S > 1e-10)\n",
        "print(rank)"
      ],
      "metadata": {
        "colab": {
          "base_uri": "https://localhost:8080/"
        },
        "id": "64b9615b",
        "outputId": "2e0b42f1-662e-4de7-a843-fe0b5c3d0fd1"
      },
      "execution_count": 122,
      "outputs": [
        {
          "output_type": "stream",
          "name": "stdout",
          "text": [
            "10\n"
          ]
        }
      ],
      "id": "64b9615b"
    },
    {
      "cell_type": "markdown",
      "source": [
        "#### 83. How to find the most frequent value in an array?"
      ],
      "metadata": {
        "id": "c85aa0b9"
      },
      "id": "c85aa0b9"
    },
    {
      "cell_type": "code",
      "source": [
        "arr = np.random.randint(0, 10, 100)\n",
        "print(np.bincount(arr).argmax())"
      ],
      "metadata": {
        "colab": {
          "base_uri": "https://localhost:8080/"
        },
        "id": "056be85b",
        "outputId": "b77b1a92-2216-46e5-eac6-58b3fb2d352f"
      },
      "execution_count": 95,
      "outputs": [
        {
          "output_type": "stream",
          "name": "stdout",
          "text": [
            "9\n"
          ]
        }
      ],
      "id": "056be85b"
    },
    {
      "cell_type": "markdown",
      "source": [
        "#### 84. Extract all the contiguous 3x3 blocks from a random 10x10 matrix (★★★)"
      ],
      "metadata": {
        "id": "0ff2344d"
      },
      "id": "0ff2344d"
    },
    {
      "cell_type": "code",
      "source": [
        "arr = np.random.randint(0, 5, (10, 10))\n",
        "print(\"Original array:\")\n",
        "print(arr)\n",
        "n = 3\n",
        "i = 1 + (arr.shape[0] - n)\n",
        "j = 1 + (arr.shape[1] - n)\n",
        "result = np.lib.stride_tricks.as_strided(arr, \n",
        "                                         shape=(i, j, n, n), \n",
        "                                         strides = arr.strides + arr.strides)\n",
        "print(\"\\nContiguous 3x3 blocks:\")\n",
        "print(result)"
      ],
      "metadata": {
        "colab": {
          "base_uri": "https://localhost:8080/"
        },
        "id": "d58b1318",
        "outputId": "15304a44-bee3-4985-e5e4-633165b32a5c"
      },
      "execution_count": 148,
      "outputs": [
        {
          "output_type": "stream",
          "name": "stdout",
          "text": [
            "Original array:\n",
            "[[2 3 0 0 1 0 4 0 4 3]\n",
            " [0 0 1 3 0 4 1 4 4 0]\n",
            " [1 0 2 3 3 0 3 2 3 3]\n",
            " [1 4 3 1 4 4 4 1 0 4]\n",
            " [3 1 0 0 3 3 0 2 4 0]\n",
            " [3 2 3 4 2 2 1 0 1 0]\n",
            " [0 3 0 1 3 4 1 1 4 3]\n",
            " [2 2 0 0 3 2 2 0 4 4]\n",
            " [3 2 1 2 1 1 1 2 3 2]\n",
            " [1 1 1 2 1 4 3 1 2 2]]\n",
            "\n",
            "Contiguous 3x3 blocks:\n",
            "[[[[2 3 0]\n",
            "   [0 0 1]\n",
            "   [1 0 2]]\n",
            "\n",
            "  [[3 0 0]\n",
            "   [0 1 3]\n",
            "   [0 2 3]]\n",
            "\n",
            "  [[0 0 1]\n",
            "   [1 3 0]\n",
            "   [2 3 3]]\n",
            "\n",
            "  [[0 1 0]\n",
            "   [3 0 4]\n",
            "   [3 3 0]]\n",
            "\n",
            "  [[1 0 4]\n",
            "   [0 4 1]\n",
            "   [3 0 3]]\n",
            "\n",
            "  [[0 4 0]\n",
            "   [4 1 4]\n",
            "   [0 3 2]]\n",
            "\n",
            "  [[4 0 4]\n",
            "   [1 4 4]\n",
            "   [3 2 3]]\n",
            "\n",
            "  [[0 4 3]\n",
            "   [4 4 0]\n",
            "   [2 3 3]]]\n",
            "\n",
            "\n",
            " [[[0 0 1]\n",
            "   [1 0 2]\n",
            "   [1 4 3]]\n",
            "\n",
            "  [[0 1 3]\n",
            "   [0 2 3]\n",
            "   [4 3 1]]\n",
            "\n",
            "  [[1 3 0]\n",
            "   [2 3 3]\n",
            "   [3 1 4]]\n",
            "\n",
            "  [[3 0 4]\n",
            "   [3 3 0]\n",
            "   [1 4 4]]\n",
            "\n",
            "  [[0 4 1]\n",
            "   [3 0 3]\n",
            "   [4 4 4]]\n",
            "\n",
            "  [[4 1 4]\n",
            "   [0 3 2]\n",
            "   [4 4 1]]\n",
            "\n",
            "  [[1 4 4]\n",
            "   [3 2 3]\n",
            "   [4 1 0]]\n",
            "\n",
            "  [[4 4 0]\n",
            "   [2 3 3]\n",
            "   [1 0 4]]]\n",
            "\n",
            "\n",
            " [[[1 0 2]\n",
            "   [1 4 3]\n",
            "   [3 1 0]]\n",
            "\n",
            "  [[0 2 3]\n",
            "   [4 3 1]\n",
            "   [1 0 0]]\n",
            "\n",
            "  [[2 3 3]\n",
            "   [3 1 4]\n",
            "   [0 0 3]]\n",
            "\n",
            "  [[3 3 0]\n",
            "   [1 4 4]\n",
            "   [0 3 3]]\n",
            "\n",
            "  [[3 0 3]\n",
            "   [4 4 4]\n",
            "   [3 3 0]]\n",
            "\n",
            "  [[0 3 2]\n",
            "   [4 4 1]\n",
            "   [3 0 2]]\n",
            "\n",
            "  [[3 2 3]\n",
            "   [4 1 0]\n",
            "   [0 2 4]]\n",
            "\n",
            "  [[2 3 3]\n",
            "   [1 0 4]\n",
            "   [2 4 0]]]\n",
            "\n",
            "\n",
            " [[[1 4 3]\n",
            "   [3 1 0]\n",
            "   [3 2 3]]\n",
            "\n",
            "  [[4 3 1]\n",
            "   [1 0 0]\n",
            "   [2 3 4]]\n",
            "\n",
            "  [[3 1 4]\n",
            "   [0 0 3]\n",
            "   [3 4 2]]\n",
            "\n",
            "  [[1 4 4]\n",
            "   [0 3 3]\n",
            "   [4 2 2]]\n",
            "\n",
            "  [[4 4 4]\n",
            "   [3 3 0]\n",
            "   [2 2 1]]\n",
            "\n",
            "  [[4 4 1]\n",
            "   [3 0 2]\n",
            "   [2 1 0]]\n",
            "\n",
            "  [[4 1 0]\n",
            "   [0 2 4]\n",
            "   [1 0 1]]\n",
            "\n",
            "  [[1 0 4]\n",
            "   [2 4 0]\n",
            "   [0 1 0]]]\n",
            "\n",
            "\n",
            " [[[3 1 0]\n",
            "   [3 2 3]\n",
            "   [0 3 0]]\n",
            "\n",
            "  [[1 0 0]\n",
            "   [2 3 4]\n",
            "   [3 0 1]]\n",
            "\n",
            "  [[0 0 3]\n",
            "   [3 4 2]\n",
            "   [0 1 3]]\n",
            "\n",
            "  [[0 3 3]\n",
            "   [4 2 2]\n",
            "   [1 3 4]]\n",
            "\n",
            "  [[3 3 0]\n",
            "   [2 2 1]\n",
            "   [3 4 1]]\n",
            "\n",
            "  [[3 0 2]\n",
            "   [2 1 0]\n",
            "   [4 1 1]]\n",
            "\n",
            "  [[0 2 4]\n",
            "   [1 0 1]\n",
            "   [1 1 4]]\n",
            "\n",
            "  [[2 4 0]\n",
            "   [0 1 0]\n",
            "   [1 4 3]]]\n",
            "\n",
            "\n",
            " [[[3 2 3]\n",
            "   [0 3 0]\n",
            "   [2 2 0]]\n",
            "\n",
            "  [[2 3 4]\n",
            "   [3 0 1]\n",
            "   [2 0 0]]\n",
            "\n",
            "  [[3 4 2]\n",
            "   [0 1 3]\n",
            "   [0 0 3]]\n",
            "\n",
            "  [[4 2 2]\n",
            "   [1 3 4]\n",
            "   [0 3 2]]\n",
            "\n",
            "  [[2 2 1]\n",
            "   [3 4 1]\n",
            "   [3 2 2]]\n",
            "\n",
            "  [[2 1 0]\n",
            "   [4 1 1]\n",
            "   [2 2 0]]\n",
            "\n",
            "  [[1 0 1]\n",
            "   [1 1 4]\n",
            "   [2 0 4]]\n",
            "\n",
            "  [[0 1 0]\n",
            "   [1 4 3]\n",
            "   [0 4 4]]]\n",
            "\n",
            "\n",
            " [[[0 3 0]\n",
            "   [2 2 0]\n",
            "   [3 2 1]]\n",
            "\n",
            "  [[3 0 1]\n",
            "   [2 0 0]\n",
            "   [2 1 2]]\n",
            "\n",
            "  [[0 1 3]\n",
            "   [0 0 3]\n",
            "   [1 2 1]]\n",
            "\n",
            "  [[1 3 4]\n",
            "   [0 3 2]\n",
            "   [2 1 1]]\n",
            "\n",
            "  [[3 4 1]\n",
            "   [3 2 2]\n",
            "   [1 1 1]]\n",
            "\n",
            "  [[4 1 1]\n",
            "   [2 2 0]\n",
            "   [1 1 2]]\n",
            "\n",
            "  [[1 1 4]\n",
            "   [2 0 4]\n",
            "   [1 2 3]]\n",
            "\n",
            "  [[1 4 3]\n",
            "   [0 4 4]\n",
            "   [2 3 2]]]\n",
            "\n",
            "\n",
            " [[[2 2 0]\n",
            "   [3 2 1]\n",
            "   [1 1 1]]\n",
            "\n",
            "  [[2 0 0]\n",
            "   [2 1 2]\n",
            "   [1 1 2]]\n",
            "\n",
            "  [[0 0 3]\n",
            "   [1 2 1]\n",
            "   [1 2 1]]\n",
            "\n",
            "  [[0 3 2]\n",
            "   [2 1 1]\n",
            "   [2 1 4]]\n",
            "\n",
            "  [[3 2 2]\n",
            "   [1 1 1]\n",
            "   [1 4 3]]\n",
            "\n",
            "  [[2 2 0]\n",
            "   [1 1 2]\n",
            "   [4 3 1]]\n",
            "\n",
            "  [[2 0 4]\n",
            "   [1 2 3]\n",
            "   [3 1 2]]\n",
            "\n",
            "  [[0 4 4]\n",
            "   [2 3 2]\n",
            "   [1 2 2]]]]\n"
          ]
        }
      ],
      "id": "d58b1318"
    },
    {
      "cell_type": "markdown",
      "source": [
        "#### 85. Create a 2D array subclass such that Z[i,j] == Z[j,i] (★★★)"
      ],
      "metadata": {
        "id": "1a18b263"
      },
      "id": "1a18b263"
    },
    {
      "cell_type": "code",
      "source": [
        "class Symetric(np.ndarray):\n",
        "    def __setitem__(self, index, value):\n",
        "        i,j = index\n",
        "        super(Symetric, self).__setitem__((i,j), value)\n",
        "        super(Symetric, self).__setitem__((j,i), value)\n",
        "\n",
        "def symetric(Z):\n",
        "    return np.asarray(Z + Z.T - np.diag(Z.diagonal())).view(Symetric)\n",
        "\n",
        "S = symetric(np.random.randint(0,10,(5,5)))\n",
        "S[2, 3] = 42\n",
        "print(S)"
      ],
      "metadata": {
        "colab": {
          "base_uri": "https://localhost:8080/"
        },
        "id": "87f17adc",
        "outputId": "bcf2e78b-f3cb-476d-f453-13c88908f91b"
      },
      "execution_count": 149,
      "outputs": [
        {
          "output_type": "stream",
          "name": "stdout",
          "text": [
            "[[ 1 14  6 17 12]\n",
            " [14  9  6  3  6]\n",
            " [ 6  6  8 42 12]\n",
            " [17  3 42  3  4]\n",
            " [12  6 12  4  6]]\n"
          ]
        }
      ],
      "id": "87f17adc"
    },
    {
      "cell_type": "markdown",
      "source": [
        "#### 86. Consider a set of p matrices wich shape (n,n) and a set of p vectors with shape (n,1). How to compute the sum of of the p matrix products at once? (result has shape (n,1)) (★★★)"
      ],
      "metadata": {
        "id": "f85f2cad"
      },
      "id": "f85f2cad"
    },
    {
      "cell_type": "code",
      "source": [
        "p, n = 3, 5\n",
        "arr = np.ones((p, n, n))\n",
        "arr_vec = np.ones((p, n, 1))\n",
        "print(arr)\n",
        "print(arr_vec)\n",
        "\n",
        "sum = np.tensordot(arr, arr_vec, axes=[[0, 2], [0, 1]])\n",
        "print(sum)"
      ],
      "metadata": {
        "colab": {
          "base_uri": "https://localhost:8080/"
        },
        "id": "8d230557",
        "outputId": "c9a816ba-cb1f-44ef-dd5e-49ad9e5da3e9"
      },
      "execution_count": 154,
      "outputs": [
        {
          "output_type": "stream",
          "name": "stdout",
          "text": [
            "[[[1. 1. 1. 1. 1.]\n",
            "  [1. 1. 1. 1. 1.]\n",
            "  [1. 1. 1. 1. 1.]\n",
            "  [1. 1. 1. 1. 1.]\n",
            "  [1. 1. 1. 1. 1.]]\n",
            "\n",
            " [[1. 1. 1. 1. 1.]\n",
            "  [1. 1. 1. 1. 1.]\n",
            "  [1. 1. 1. 1. 1.]\n",
            "  [1. 1. 1. 1. 1.]\n",
            "  [1. 1. 1. 1. 1.]]\n",
            "\n",
            " [[1. 1. 1. 1. 1.]\n",
            "  [1. 1. 1. 1. 1.]\n",
            "  [1. 1. 1. 1. 1.]\n",
            "  [1. 1. 1. 1. 1.]\n",
            "  [1. 1. 1. 1. 1.]]]\n",
            "[[[1.]\n",
            "  [1.]\n",
            "  [1.]\n",
            "  [1.]\n",
            "  [1.]]\n",
            "\n",
            " [[1.]\n",
            "  [1.]\n",
            "  [1.]\n",
            "  [1.]\n",
            "  [1.]]\n",
            "\n",
            " [[1.]\n",
            "  [1.]\n",
            "  [1.]\n",
            "  [1.]\n",
            "  [1.]]]\n",
            "[[15.]\n",
            " [15.]\n",
            " [15.]\n",
            " [15.]\n",
            " [15.]]\n"
          ]
        }
      ],
      "id": "8d230557"
    },
    {
      "cell_type": "markdown",
      "source": [
        "#### 87. Consider a 16x16 array, how to get the block-sum (block size is 4x4)? (★★★)"
      ],
      "metadata": {
        "id": "5afb72c8"
      },
      "id": "5afb72c8"
    },
    {
      "cell_type": "code",
      "source": [
        "import numpy as np\n",
        "Z = np.ones((16,16))\n",
        "k = 4\n",
        "S = np.add.reduceat(np.add.reduceat(Z, np.arange(0, Z.shape[0], k), axis=0),\n",
        "                                       np.arange(0, Z.shape[1], k), axis=1)\n",
        "print(S)"
      ],
      "metadata": {
        "colab": {
          "base_uri": "https://localhost:8080/"
        },
        "id": "e86f47a9",
        "outputId": "cf8caffd-804b-471d-e8f7-622982fd087c"
      },
      "execution_count": 2,
      "outputs": [
        {
          "output_type": "stream",
          "name": "stdout",
          "text": [
            "[[16. 16. 16. 16.]\n",
            " [16. 16. 16. 16.]\n",
            " [16. 16. 16. 16.]\n",
            " [16. 16. 16. 16.]]\n"
          ]
        }
      ],
      "id": "e86f47a9"
    },
    {
      "cell_type": "markdown",
      "source": [
        "#### 88. How to implement the Game of Life using numpy arrays? (★★★)"
      ],
      "metadata": {
        "id": "6094d37c"
      },
      "id": "6094d37c"
    },
    {
      "cell_type": "code",
      "source": [
        "def iterate(Z):\n",
        "    # Count neighbours\n",
        "    N = (Z[0:-2,0:-2] + Z[0:-2,1:-1] + Z[0:-2,2:] +\n",
        "         Z[1:-1,0:-2]                + Z[1:-1,2:] +\n",
        "         Z[2:  ,0:-2] + Z[2:  ,1:-1] + Z[2:  ,2:])\n",
        "\n",
        "    # Apply rules\n",
        "    birth = (N==3) & (Z[1:-1,1:-1]==0)\n",
        "    survive = ((N==2) | (N==3)) & (Z[1:-1,1:-1]==1)\n",
        "    Z[...] = 0\n",
        "    Z[1:-1,1:-1][birth | survive] = 1\n",
        "    return Z\n",
        "\n",
        "Z = np.random.randint(0,2,(50,50))\n",
        "for i in range(100): Z = iterate(Z)\n",
        "print(Z)"
      ],
      "metadata": {
        "colab": {
          "base_uri": "https://localhost:8080/"
        },
        "id": "a93e715f",
        "outputId": "31ff413f-60b4-4843-b679-99051a7fdee1"
      },
      "execution_count": 6,
      "outputs": [
        {
          "output_type": "stream",
          "name": "stdout",
          "text": [
            "[[0 0 0 ... 0 0 0]\n",
            " [0 0 0 ... 0 0 0]\n",
            " [0 0 0 ... 0 0 0]\n",
            " ...\n",
            " [0 0 0 ... 0 0 0]\n",
            " [0 0 0 ... 0 0 0]\n",
            " [0 0 0 ... 0 0 0]]\n"
          ]
        }
      ],
      "id": "a93e715f"
    },
    {
      "cell_type": "markdown",
      "source": [
        "#### 89. How to get the n largest values of an array (★★★)"
      ],
      "metadata": {
        "id": "a173cf96"
      },
      "id": "a173cf96"
    },
    {
      "cell_type": "code",
      "source": [
        "arr = np.arange(10000)\n",
        "arr.sort()\n",
        "\n",
        "n = 10\n",
        "print(arr[-n:])"
      ],
      "metadata": {
        "colab": {
          "base_uri": "https://localhost:8080/"
        },
        "id": "b7c2ff35",
        "outputId": "6a27efa7-33ef-4ddf-b5a4-409171c990f2"
      },
      "execution_count": 7,
      "outputs": [
        {
          "output_type": "stream",
          "name": "stdout",
          "text": [
            "[9990 9991 9992 9993 9994 9995 9996 9997 9998 9999]\n"
          ]
        }
      ],
      "id": "b7c2ff35"
    },
    {
      "cell_type": "markdown",
      "source": [
        "#### 90. Given an arbitrary number of vectors, build the cartesian product (every combinations of every item) (★★★)"
      ],
      "metadata": {
        "id": "15db2d01"
      },
      "id": "15db2d01"
    },
    {
      "cell_type": "code",
      "source": [
        "import itertools\n",
        "\n",
        "somelists = [[1, 2, 3], \n",
        "             [4, 5], \n",
        "             [6, 7]]\n",
        "\n",
        "for element in itertools.product(*somelists):\n",
        "    print(element)"
      ],
      "metadata": {
        "colab": {
          "base_uri": "https://localhost:8080/"
        },
        "id": "a9a4633d",
        "outputId": "bd4fa1c2-99c6-4ae5-9cd6-5182c86eaee5"
      },
      "execution_count": 254,
      "outputs": [
        {
          "output_type": "stream",
          "name": "stdout",
          "text": [
            "(1, 4, 6)\n",
            "(1, 4, 7)\n",
            "(1, 5, 6)\n",
            "(1, 5, 7)\n",
            "(2, 4, 6)\n",
            "(2, 4, 7)\n",
            "(2, 5, 6)\n",
            "(2, 5, 7)\n",
            "(3, 4, 6)\n",
            "(3, 4, 7)\n",
            "(3, 5, 6)\n",
            "(3, 5, 7)\n"
          ]
        }
      ],
      "id": "a9a4633d"
    },
    {
      "cell_type": "code",
      "source": [
        "def cartesian(arrays):\n",
        "    arrays = [np.asarray(a) for a in arrays]\n",
        "    shape = (len(x) for x in arrays)\n",
        "\n",
        "    ix = np.indices(shape, dtype=int)\n",
        "    ix = ix.reshape(len(arrays), -1).T\n",
        "\n",
        "    for n, arr in enumerate(arrays):\n",
        "        ix[:, n] = arrays[n][ix[:, n]]\n",
        "\n",
        "    return ix\n",
        "\n",
        "print (cartesian(([1, 2, 3], [4, 5], [6, 7])))"
      ],
      "metadata": {
        "colab": {
          "base_uri": "https://localhost:8080/"
        },
        "id": "-MGnPTWt4kXG",
        "outputId": "a6c88f1f-159f-4bee-8504-1e23d81f3aa6"
      },
      "id": "-MGnPTWt4kXG",
      "execution_count": 251,
      "outputs": [
        {
          "output_type": "stream",
          "name": "stdout",
          "text": [
            "[[1 4 6]\n",
            " [1 4 7]\n",
            " [1 5 6]\n",
            " [1 5 7]\n",
            " [2 4 6]\n",
            " [2 4 7]\n",
            " [2 5 6]\n",
            " [2 5 7]\n",
            " [3 4 6]\n",
            " [3 4 7]\n",
            " [3 5 6]\n",
            " [3 5 7]]\n"
          ]
        }
      ]
    },
    {
      "cell_type": "markdown",
      "source": [
        "#### 91. How to create a record array from a regular array? (★★★)"
      ],
      "metadata": {
        "id": "5d94d1ef"
      },
      "id": "5d94d1ef"
    },
    {
      "cell_type": "code",
      "source": [
        "arr = np.array([(\"Hello\", 2.5, 3),\n",
        "                (\"World\", 3.6, 2)])\n",
        "arr_record = np.core.records.fromarrays(arr.T, \n",
        "                                        names='col1, col2, col3', \n",
        "                                        formats = 'S8, f8, i8')\n",
        "print(arr_record)"
      ],
      "metadata": {
        "colab": {
          "base_uri": "https://localhost:8080/"
        },
        "id": "b1dae380",
        "outputId": "47e11166-2985-4352-f98c-39c4298e6088"
      },
      "execution_count": 144,
      "outputs": [
        {
          "output_type": "stream",
          "name": "stdout",
          "text": [
            "[(b'Hello', 2.5, 3) (b'World', 3.6, 2)]\n"
          ]
        }
      ],
      "id": "b1dae380"
    },
    {
      "cell_type": "markdown",
      "source": [
        "#### 92. Consider a large vector Z, compute Z to the power of 3 using 3 different methods (★★★)"
      ],
      "metadata": {
        "id": "114ccc36"
      },
      "id": "114ccc36"
    },
    {
      "cell_type": "code",
      "source": [
        "arr = np.random.randint(0, 10, 10)\n",
        "print(arr)\n",
        "\n",
        "print([elem ** 3 for i, elem in enumerate(arr)])\n",
        "print(np.einsum('i,i,i->i', arr, arr, arr))\n",
        "print(arr * arr * arr)"
      ],
      "metadata": {
        "colab": {
          "base_uri": "https://localhost:8080/"
        },
        "id": "877c65d6",
        "outputId": "dc7a01b6-74b5-4804-e9ce-d0edf61bf299"
      },
      "execution_count": 142,
      "outputs": [
        {
          "output_type": "stream",
          "name": "stdout",
          "text": [
            "[9 7 6 3 7 4 3 9 0 8]\n",
            "[729, 343, 216, 27, 343, 64, 27, 729, 0, 512]\n",
            "[729 343 216  27 343  64  27 729   0 512]\n",
            "[729 343 216  27 343  64  27 729   0 512]\n"
          ]
        }
      ],
      "id": "877c65d6"
    },
    {
      "cell_type": "markdown",
      "source": [
        "#### 93. Consider two arrays A and B of shape (8,3) and (2,2). How to find rows of A that contain elements of each row of B regardless of the order of the elements in B? (★★★)"
      ],
      "metadata": {
        "id": "d614fee4"
      },
      "id": "d614fee4"
    },
    {
      "cell_type": "code",
      "source": [
        "A = np.random.randint(0,5,(8,3))\n",
        "B = np.random.randint(0,5,(2,2))\n",
        "print(A)\n",
        "print(B)\n",
        "\n",
        "C = (A[..., np.newaxis, np.newaxis] == B)\n",
        "rows = np.where(C.any((3,1)).all(1))[0]\n",
        "print(rows)"
      ],
      "metadata": {
        "colab": {
          "base_uri": "https://localhost:8080/"
        },
        "id": "e6807a84",
        "outputId": "3c1fe218-8eef-4b1e-91ea-ba8b4210d46f"
      },
      "execution_count": 135,
      "outputs": [
        {
          "output_type": "stream",
          "name": "stdout",
          "text": [
            "[[0 4 4]\n",
            " [1 0 0]\n",
            " [0 2 4]\n",
            " [2 0 1]\n",
            " [1 3 1]\n",
            " [2 3 4]\n",
            " [0 1 3]\n",
            " [0 2 1]]\n",
            "[[2 0]\n",
            " [0 2]]\n",
            "[0 1 2 3 5 6 7]\n"
          ]
        }
      ],
      "id": "e6807a84"
    },
    {
      "cell_type": "markdown",
      "source": [
        "#### 94. Considering a 10x3 matrix, extract rows with unequal values (e.g. [2,2,3]) (★★★)"
      ],
      "metadata": {
        "id": "b0eedca6"
      },
      "id": "b0eedca6"
    },
    {
      "cell_type": "code",
      "source": [
        "from traceback import print_stack\n",
        "arr = np.random.randint(0, 10, (10, 3))\n",
        "\n",
        "for i in range(1, 5):\n",
        "  arr[np.random.randint(0, len(arr) - 1)] = np.array([5 for i in range(len(arr[i]))])\n",
        "print(arr)\n",
        "\n",
        "idx = []\n",
        "for i in range(len(arr)):\n",
        "  counter = 0\n",
        "  for j in range(1, len(arr[i])):\n",
        "    if arr[i, j] == arr[i, j - 1]:\n",
        "      counter += 1\n",
        "  if counter == 2:\n",
        "    idx.append(i)\n",
        "arr_unequal = np.delete(arr, idx, 0)\n",
        "print(arr_unequal)"
      ],
      "metadata": {
        "colab": {
          "base_uri": "https://localhost:8080/"
        },
        "id": "q-kTCVZGBAGV",
        "outputId": "56456847-c5f5-41d3-eb70-82b30f30f19d"
      },
      "id": "q-kTCVZGBAGV",
      "execution_count": 133,
      "outputs": [
        {
          "output_type": "stream",
          "name": "stdout",
          "text": [
            "[[2 6 6]\n",
            " [5 6 9]\n",
            " [5 5 5]\n",
            " [4 7 3]\n",
            " [6 2 3]\n",
            " [5 5 5]\n",
            " [5 5 5]\n",
            " [5 5 5]\n",
            " [2 7 1]\n",
            " [9 9 9]]\n",
            "[[2 6 6]\n",
            " [5 6 9]\n",
            " [4 7 3]\n",
            " [6 2 3]\n",
            " [2 7 1]]\n"
          ]
        }
      ]
    },
    {
      "cell_type": "markdown",
      "source": [
        "#### 95. Convert a vector of ints into a matrix binary representation (★★★)"
      ],
      "metadata": {
        "id": "a65ec1cf"
      },
      "id": "a65ec1cf"
    },
    {
      "cell_type": "code",
      "source": [
        "arr = np.array([2 ** i for i in range(0, 8)], dtype=np.uint8)\n",
        "print(arr)\n",
        "\n",
        "print(np.unpackbits(arr[:, np.newaxis], axis=1))"
      ],
      "metadata": {
        "colab": {
          "base_uri": "https://localhost:8080/"
        },
        "id": "323cdf4c",
        "outputId": "10bab649-987d-4742-e3d2-d74214fb2cc4"
      },
      "execution_count": 99,
      "outputs": [
        {
          "output_type": "stream",
          "name": "stdout",
          "text": [
            "[  1   2   4   8  16  32  64 128]\n",
            "[[0 0 0 0 0 0 0 1]\n",
            " [0 0 0 0 0 0 1 0]\n",
            " [0 0 0 0 0 1 0 0]\n",
            " [0 0 0 0 1 0 0 0]\n",
            " [0 0 0 1 0 0 0 0]\n",
            " [0 0 1 0 0 0 0 0]\n",
            " [0 1 0 0 0 0 0 0]\n",
            " [1 0 0 0 0 0 0 0]]\n"
          ]
        }
      ],
      "id": "323cdf4c"
    },
    {
      "cell_type": "markdown",
      "source": [
        "#### 96. Given a two dimensional array, how to extract unique rows? (★★★)"
      ],
      "metadata": {
        "id": "75b9397f"
      },
      "id": "75b9397f"
    },
    {
      "cell_type": "code",
      "source": [
        "arr = np.random.randint(0, 10, (5, 5))\n",
        "arr[-1] = arr[0]\n",
        "print(arr)\n",
        "\n",
        "arr_unique = np.unique(arr, axis=0)\n",
        "print(arr_unique)"
      ],
      "metadata": {
        "colab": {
          "base_uri": "https://localhost:8080/"
        },
        "id": "9bb56a47",
        "outputId": "ff73dd41-5f55-40ce-8d7c-b969f9f019e2"
      },
      "execution_count": 114,
      "outputs": [
        {
          "output_type": "stream",
          "name": "stdout",
          "text": [
            "[[1 5 1 1 8]\n",
            " [9 7 3 0 3]\n",
            " [6 2 0 3 1]\n",
            " [1 2 9 9 9]\n",
            " [1 5 1 1 8]]\n",
            "[[1 2 9 9 9]\n",
            " [1 5 1 1 8]\n",
            " [6 2 0 3 1]\n",
            " [9 7 3 0 3]]\n"
          ]
        }
      ],
      "id": "9bb56a47"
    },
    {
      "cell_type": "markdown",
      "source": [
        "#### 97. Considering 2 vectors A & B, write the einsum equivalent of inner, outer, sum, and mul function (★★★)"
      ],
      "metadata": {
        "id": "82aaf21b"
      },
      "id": "82aaf21b"
    },
    {
      "cell_type": "code",
      "source": [
        "A = np.random.randint(0, 10, 10)\n",
        "print(A)\n",
        "\n",
        "B = np.random.randint(0, 10, 10)\n",
        "print(B)\n",
        "\n",
        "print('np.sum(A): ', np.einsum('i->', A))\n",
        "print('A * B: ', np.einsum('i,i->i', A, B))\n",
        "print('np.inner(A, B): ', np.einsum('i,i', A, B))    \n",
        "print('np.outer(A, B): \\n', np.einsum('i,j->ij', A, B))"
      ],
      "metadata": {
        "colab": {
          "base_uri": "https://localhost:8080/"
        },
        "id": "cedcefd9",
        "outputId": "52e62290-e811-4fac-9372-367630c5f4e1"
      },
      "execution_count": 118,
      "outputs": [
        {
          "output_type": "stream",
          "name": "stdout",
          "text": [
            "[6 9 7 3 9 8 9 1 8 0]\n",
            "[5 2 8 0 7 5 9 0 1 5]\n",
            "np.sum(A):  60\n",
            "A * B:  [30 18 56  0 63 40 81  0  8  0]\n",
            "np.inner(A, B):  296\n",
            "np.outer(A, B): \n",
            " [[30 12 48  0 42 30 54  0  6 30]\n",
            " [45 18 72  0 63 45 81  0  9 45]\n",
            " [35 14 56  0 49 35 63  0  7 35]\n",
            " [15  6 24  0 21 15 27  0  3 15]\n",
            " [45 18 72  0 63 45 81  0  9 45]\n",
            " [40 16 64  0 56 40 72  0  8 40]\n",
            " [45 18 72  0 63 45 81  0  9 45]\n",
            " [ 5  2  8  0  7  5  9  0  1  5]\n",
            " [40 16 64  0 56 40 72  0  8 40]\n",
            " [ 0  0  0  0  0  0  0  0  0  0]]\n"
          ]
        }
      ],
      "id": "cedcefd9"
    },
    {
      "cell_type": "markdown",
      "source": [
        "#### 98. Considering a path described by two vectors (X,Y), how to sample it using equidistant samples (★★★)?"
      ],
      "metadata": {
        "id": "7741e17f"
      },
      "id": "7741e17f"
    },
    {
      "cell_type": "code",
      "source": [
        "phi = np.arange(0, 10*np.pi, 0.1)\n",
        "a = 1\n",
        "x = a*phi*np.cos(phi)\n",
        "y = a*phi*np.sin(phi)\n",
        "\n",
        "dr = (np.diff(x)**2 + np.diff(y)**2)**.5 # segment lengths\n",
        "r = np.zeros_like(x)\n",
        "r[1:] = np.cumsum(dr)                # integrate path\n",
        "r_int = np.linspace(0, r.max(), 200) # regular spaced path\n",
        "x_int = np.interp(r_int, r, x)       # integrate path\n",
        "y_int = np.interp(r_int, r, y)"
      ],
      "metadata": {
        "id": "0b2432fe"
      },
      "execution_count": 255,
      "outputs": [],
      "id": "0b2432fe"
    },
    {
      "cell_type": "markdown",
      "source": [
        "#### 99. Given an integer n and a 2D array X, select from X the rows which can be interpreted as draws from a multinomial distribution with n degrees, i.e., the rows which only contain integers and which sum to n. (★★★)"
      ],
      "metadata": {
        "id": "340d6f36"
      },
      "id": "340d6f36"
    },
    {
      "cell_type": "code",
      "source": [
        "arr = np.random.randint(0, 5, (3, 5))\n",
        "print(arr)\n",
        "\n",
        "n = 10\n",
        "\n",
        "for i in range(len(arr)):\n",
        "  n_sum = np.sum(arr[i])\n",
        "  if n_sum == n:\n",
        "    print(arr[i])"
      ],
      "metadata": {
        "colab": {
          "base_uri": "https://localhost:8080/"
        },
        "id": "yZ-QYDLDK3Cr",
        "outputId": "077646ce-e71b-4253-cff6-1cfc3203bbd0"
      },
      "id": "yZ-QYDLDK3Cr",
      "execution_count": 162,
      "outputs": [
        {
          "output_type": "stream",
          "name": "stdout",
          "text": [
            "[[3 3 1 1 0]\n",
            " [2 1 4 2 1]\n",
            " [3 1 3 1 4]]\n",
            "[2 1 4 2 1]\n"
          ]
        }
      ]
    },
    {
      "cell_type": "markdown",
      "source": [
        "#### 100. Compute bootstrapped 95% confidence intervals for the mean of a 1D array X (i.e., resample the elements of an array with replacement N times, compute the mean of each sample, and then compute percentiles over the means). (★★★)"
      ],
      "metadata": {
        "id": "19721849"
      },
      "id": "19721849"
    },
    {
      "cell_type": "code",
      "source": [
        "import numpy as np\n",
        "\n",
        "X = np.random.randn(100) # random 1D array\n",
        "print(X)\n",
        "N = 10000 # number of bootstrap samples\n",
        "idx = np.random.randint(0, X.size, (N, X.size))\n",
        "print(idx)"
      ],
      "metadata": {
        "colab": {
          "base_uri": "https://localhost:8080/"
        },
        "id": "87309c6f",
        "outputId": "0cedc2e6-bc6c-4be2-fa7c-9f6e5829ff45"
      },
      "execution_count": 1,
      "outputs": [
        {
          "output_type": "stream",
          "name": "stdout",
          "text": [
            "[-1.29163722  1.10884191  0.42793435 -1.69500143  1.24627594  0.58359445\n",
            "  0.84859828 -0.28387923  1.69991418 -1.19912761  0.41128406 -1.6895508\n",
            " -0.28956932  2.08431105 -0.92941934 -2.36478462 -0.39485683  1.30876918\n",
            " -0.46412247  0.87012115 -0.82974434 -2.96821063  0.27057689 -1.5371998\n",
            " -0.56200097 -0.12993548  0.08636859 -0.28713575 -1.27113624  1.0009459\n",
            " -0.24134734  0.13388486  0.86205476  0.72967366 -0.17611177  0.31451042\n",
            "  1.39930946 -0.15296254  0.6048383   0.09755714 -0.1816061   0.27929843\n",
            "  0.1103684  -0.56997156 -2.01345192 -0.02509557  0.0634593  -2.5803307\n",
            "  0.31881781  1.92794411  0.34470994  0.53723838  2.4743292  -0.19436156\n",
            "  1.57868351  0.81698369  0.24164205 -0.43714807 -0.29567232  0.07626772\n",
            " -0.23527716  0.02279043  0.05337526  0.39283699 -1.00132289 -0.61105833\n",
            " -1.19134266  2.19766945  0.48714609  0.3243458  -0.04647933  0.53636913\n",
            "  1.57034172 -1.06504504 -0.55887257  0.40757584  0.24956395  1.04575118\n",
            "  0.36846175  1.61473494 -1.15254629  0.68531585 -0.03958783  1.72083709\n",
            " -2.4010437   1.04801508  1.60344647 -0.14996864 -1.44787823  0.24872846\n",
            "  0.23290615 -0.44509484 -0.61339563 -0.29144825  0.13846853 -1.49500107\n",
            "  0.72640654 -0.10557563  0.94636895 -0.05170952]\n",
            "[[93 76 91 ... 66 48  6]\n",
            " [ 5 71 28 ...  6  6 91]\n",
            " [ 8 95 79 ... 99 81 47]\n",
            " ...\n",
            " [87 74 94 ... 98 98 82]\n",
            " [44 18 52 ... 21 47 53]\n",
            " [48 51 54 ... 50 62 62]]\n"
          ]
        }
      ],
      "id": "87309c6f"
    },
    {
      "cell_type": "code",
      "source": [
        "means = X[idx].mean(axis=1)\n",
        "print(means)\n"
      ],
      "metadata": {
        "colab": {
          "base_uri": "https://localhost:8080/"
        },
        "id": "_wdtPR-9dZ_t",
        "outputId": "c4316fd1-69c6-44e4-f389-d107030cb1a1"
      },
      "id": "_wdtPR-9dZ_t",
      "execution_count": 2,
      "outputs": [
        {
          "output_type": "stream",
          "name": "stdout",
          "text": [
            "[-0.22483428 -0.02797209 -0.02099834 ...  0.02920668 -0.08327588\n",
            " -0.0670003 ]\n"
          ]
        }
      ]
    },
    {
      "cell_type": "code",
      "source": [
        "per = np.percentile(means, [5, 95])\n",
        "print(per)"
      ],
      "metadata": {
        "colab": {
          "base_uri": "https://localhost:8080/"
        },
        "id": "Dt1rYMWAeG6M",
        "outputId": "cc094fc3-9ca1-44a8-ac50-fd015251841d"
      },
      "id": "Dt1rYMWAeG6M",
      "execution_count": 6,
      "outputs": [
        {
          "output_type": "stream",
          "name": "stdout",
          "text": [
            "[-0.13934873  0.20746307]\n"
          ]
        }
      ]
    }
  ]
}