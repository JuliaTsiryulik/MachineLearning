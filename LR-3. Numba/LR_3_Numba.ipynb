{
  "nbformat": 4,
  "nbformat_minor": 0,
  "metadata": {
    "colab": {
      "provenance": []
    },
    "kernelspec": {
      "name": "python3",
      "display_name": "Python 3"
    },
    "language_info": {
      "name": "python"
    }
  },
  "cells": [
    {
      "cell_type": "markdown",
      "source": [
        "## Лабораторная работа №3\n",
        "\n",
        "Постановка задачи:\n",
        "\n",
        "1. Используя тестовые функции для оптимизации из лабораторной работы №1, применить к алгоритму градиентного спуска (GD) компилятор Numba,\n",
        "2. Сравнить время работы до и после применения Numba."
      ],
      "metadata": {
        "id": "LDqmqzJ7HNh2"
      }
    },
    {
      "cell_type": "code",
      "source": [
        "import numpy as np\n",
        "import timeit\n",
        "from numba import njit"
      ],
      "metadata": {
        "id": "DpsrOaHFFYaB"
      },
      "execution_count": null,
      "outputs": []
    },
    {
      "cell_type": "markdown",
      "source": [
        "### Функция Матьяса\n",
        "\n",
        "&emsp;&emsp;&emsp;&emsp;&emsp;&emsp;&emsp;&emsp;&emsp;&emsp;&emsp;&emsp;&emsp;&emsp;&emsp;&emsp;\n",
        "<font size = \"3\">*Формула:*</font>\n",
        "<br>\n",
        "$$\n",
        "f(x, y) = 0.26 (x^2 + y^2) - 0.48xy,\n",
        "$$\n",
        "<br>\n",
        "&emsp;&emsp;&emsp;&emsp;&emsp;&emsp;&emsp;&emsp;&emsp;&emsp;&emsp;&emsp;&emsp;&emsp;&emsp;&emsp;\n",
        "<font size = \"3\">*Глобальный минимум:*</font>\n",
        "<br>\n",
        "$$\n",
        "f(0, 0) = 0,\n",
        "$$\n",
        "<br>\n",
        "&emsp;&emsp;&emsp;&emsp;&emsp;&emsp;&emsp;&emsp;&emsp;&emsp;&emsp;&emsp;&emsp;&emsp;&emsp;&emsp;\n",
        "<font size = \"3\">*Метод поиска:*</font>\n",
        "<br>\n",
        "$$\n",
        "-10\\leq x,y\\leq 10.\n",
        "$$\n",
        "<br>"
      ],
      "metadata": {
        "id": "SWFGDqY9Hizs"
      }
    },
    {
      "cell_type": "code",
      "source": [
        "def MatyasFunc(x, y):\n",
        "    return 0.26 * ((x ** 2) + (y ** 2)) - 0.48 * x * y\n",
        "\n",
        "def GradMatyasFunc(x, y):\n",
        "    return 0.52 * x - 0.48 * y, -0.48 * x + 0.52 * y"
      ],
      "metadata": {
        "id": "jy3GjtcGFnsP"
      },
      "execution_count": null,
      "outputs": []
    },
    {
      "cell_type": "markdown",
      "source": [
        "### Функция МакКормика\n",
        "\n",
        "&emsp;&emsp;&emsp;&emsp;&emsp;&emsp;&emsp;&emsp;&emsp;&emsp;&emsp;&emsp;&emsp;&emsp;&emsp;&emsp;\n",
        "<font size = \"3\">*Формула:*</font>\n",
        "<br>\n",
        "$$\n",
        "f(x, y) = \\sin(x + y) + (x - y)^2 - 1.5x + 2.5y + 1,\n",
        "$$\n",
        "<br>\n",
        "&emsp;&emsp;&emsp;&emsp;&emsp;&emsp;&emsp;&emsp;&emsp;&emsp;&emsp;&emsp;&emsp;&emsp;&emsp;&emsp;\n",
        "<font size = \"3\">*Глобальный минимум:*</font>\n",
        "<br><br>\n",
        "$$\n",
        "f(-0.54719, -1.54719) = -1.91333,\n",
        "$$\n",
        "<br>\n",
        "&emsp;&emsp;&emsp;&emsp;&emsp;&emsp;&emsp;&emsp;&emsp;&emsp;&emsp;&emsp;&emsp;&emsp;&emsp;&emsp;\n",
        "<font size = \"3\">*Метод поиска:*</font>\n",
        "<br>\n",
        "$$\n",
        "-1.5\\leq x\\leq 4,\n",
        "$$\n",
        "$$\n",
        "-3\\leq y\\leq 4,\n",
        "$$\n",
        "<br>"
      ],
      "metadata": {
        "id": "fyEBWcRfHjl3"
      }
    },
    {
      "cell_type": "code",
      "source": [
        "def McCormickFunc(x, y):\n",
        "    return np.sin(x + y) + ((x - y) ** 2) - 1.5 * x + 2.5 * y + 1\n",
        "\n",
        "def GradMcCormickFunc(x, y):\n",
        "    part1 = 2 * x - 2 * y + np.cos(x + y) - 1.5\n",
        "    part2 = 2 * y - 2 * x + np.cos(x + y) + 2.5\n",
        "    return part1, part2 "
      ],
      "metadata": {
        "id": "KD_2IvNWFoF_"
      },
      "execution_count": null,
      "outputs": []
    },
    {
      "cell_type": "markdown",
      "source": [
        "### Функция Матьяса + Numba"
      ],
      "metadata": {
        "id": "tsZO4rdFH0vh"
      }
    },
    {
      "cell_type": "code",
      "source": [
        "@njit #alias for @numba.jit(nopython = True)\n",
        "def numba_MatyasFunc(x, y):\n",
        "    return 0.26 * ((x ** 2) + (y ** 2)) - 0.48 * x * y\n",
        "\n",
        "@njit\n",
        "def numba_GradMatyasFunc(x, y):\n",
        "    return 0.52 * x - 0.48 * y, -0.48 * x + 0.52 * y"
      ],
      "metadata": {
        "id": "ZxCpezcUFoJH"
      },
      "execution_count": null,
      "outputs": []
    },
    {
      "cell_type": "markdown",
      "source": [
        "### Функция МакКормика + Numba"
      ],
      "metadata": {
        "id": "l95Se6snH1o_"
      }
    },
    {
      "cell_type": "code",
      "source": [
        "@njit\n",
        "def numba_McCormickFunc(x, y):\n",
        "    return np.sin(x + y) + ((x - y) ** 2) - 1.5 * x + 2.5 * y + 1\n",
        "\n",
        "@njit\n",
        "def numba_GradMcCormickFunc(x, y):\n",
        "    part1 = 2 * x - 2 * y + np.cos(x + y) - 1.5\n",
        "    part2 = 2 * y - 2 * x + np.cos(x + y) + 2.5\n",
        "    return part1, part2 "
      ],
      "metadata": {
        "id": "D7yOPjreFoM5"
      },
      "execution_count": null,
      "outputs": []
    },
    {
      "cell_type": "markdown",
      "source": [
        "### Градиентный спуск"
      ],
      "metadata": {
        "id": "7R-UCpChH3GY"
      }
    },
    {
      "cell_type": "code",
      "source": [
        "def GradL(func, g_func, theta0_i, theta1_i, alpha = 0.01, eps = 0.0000001):\n",
        "\n",
        "    i = 0\n",
        "    (theta0_i_new, theta1_i_new) = (1000, 1000)\n",
        "\n",
        "    while (abs(func(theta0_i, theta1_i) - func(theta0_i_new, theta1_i_new)) >= eps):\n",
        "\n",
        "        if i > 0:\n",
        "            theta0_i = theta0_i_new\n",
        "            theta1_i = theta1_i_new\n",
        "\n",
        "        i += 1\n",
        "\n",
        "        upd_theta0_i, upd_theta1_i = g_func(theta0_i, theta1_i)\n",
        "        theta0_i_new = theta0_i - alpha * upd_theta0_i\n",
        "        theta1_i_new = theta1_i - alpha * upd_theta1_i\n",
        "\n",
        "    return i, theta0_i, theta1_i, func(theta0_i, theta1_i)"
      ],
      "metadata": {
        "id": "b01ilC5HGDGC"
      },
      "execution_count": null,
      "outputs": []
    },
    {
      "cell_type": "markdown",
      "source": [
        "### Градиентный спуск + Numba"
      ],
      "metadata": {
        "id": "4NOggImuH4E6"
      }
    },
    {
      "cell_type": "code",
      "source": [
        "@njit #alias for @numba.jit(nopython = True)\n",
        "def numba_GradL(func, g_func, theta0_i, theta1_i, alpha = 0.01, eps = 0.0000001):\n",
        "\n",
        "    i = 0\n",
        "    (theta0_i_new, theta1_i_new) = (1000, 1000)\n",
        "\n",
        "    while (abs(func(theta0_i, theta1_i) - func(theta0_i_new, theta1_i_new)) >= eps):\n",
        "\n",
        "        if i > 0:\n",
        "            theta0_i = theta0_i_new\n",
        "            theta1_i = theta1_i_new\n",
        "\n",
        "        i += 1\n",
        "\n",
        "        upd_theta0_i, upd_theta1_i = g_func(theta0_i, theta1_i)\n",
        "        theta0_i_new = theta0_i - alpha * upd_theta0_i\n",
        "        theta1_i_new = theta1_i - alpha * upd_theta1_i\n",
        "\n",
        "    return i, theta0_i, theta1_i, func(theta0_i, theta1_i)"
      ],
      "metadata": {
        "id": "gU_-rTRiGDeo"
      },
      "execution_count": null,
      "outputs": []
    },
    {
      "cell_type": "markdown",
      "source": [
        "### Функция Матьяса. Время выполнения без использования Numba"
      ],
      "metadata": {
        "id": "vhwV9JhPJ1vH"
      }
    },
    {
      "cell_type": "code",
      "source": [
        "x, y = 5, 10"
      ],
      "metadata": {
        "id": "YC0_bRlKGDiV"
      },
      "execution_count": null,
      "outputs": []
    },
    {
      "cell_type": "code",
      "source": [
        "setup_code = \"\"\"\n",
        "from __main__ import GradL, MatyasFunc, GradMatyasFunc, x, y\n",
        "func = MatyasFunc\n",
        "g_func = GradMatyasFunc\n",
        "theta0_i = x\n",
        "theta1_i = y\n",
        "\"\"\"\n",
        "print('Time without Numba = ', timeit.timeit(stmt = \"GradL(func, g_func, theta0_i, theta1_i)\", \n",
        "                                             setup = setup_code, \n",
        "                                             number = 100))"
      ],
      "metadata": {
        "colab": {
          "base_uri": "https://localhost:8080/"
        },
        "id": "NFqEMzbKGmoi",
        "outputId": "833fb63c-5a3f-4148-a8cd-913604f83399"
      },
      "execution_count": null,
      "outputs": [
        {
          "output_type": "stream",
          "name": "stdout",
          "text": [
            "Time without Numba =  1.3439351449999322\n"
          ]
        }
      ]
    },
    {
      "cell_type": "markdown",
      "source": [
        "### Функция Матьяса. Время выполнения с использованием Numba"
      ],
      "metadata": {
        "id": "lkhL6hETH_Fr"
      }
    },
    {
      "cell_type": "code",
      "source": [
        "#stepsGD, x_resGD, y_resGD, resGD = numba_GradL(numba_MatyasFunc, numba_GradMatyasFunc, x, y)\n",
        "numba_setup_code = \"\"\"\n",
        "from __main__ import numba_GradL, numba_MatyasFunc, numba_GradMatyasFunc, x, y\n",
        "func = numba_MatyasFunc\n",
        "g_func = numba_GradMatyasFunc\n",
        "theta0_i = x\n",
        "theta1_i = y\n",
        "\"\"\"\n",
        "print('Time with Numba = ', timeit.timeit(stmt = \"numba_GradL(func, g_func, theta0_i, theta1_i)\", \n",
        "                                          setup = numba_setup_code, \n",
        "                                          number = 100))"
      ],
      "metadata": {
        "colab": {
          "base_uri": "https://localhost:8080/"
        },
        "id": "_MkfJbITGR8H",
        "outputId": "e43e94b2-ff3f-41a4-9573-8430aa8f5384"
      },
      "execution_count": null,
      "outputs": [
        {
          "output_type": "stream",
          "name": "stdout",
          "text": [
            "Time with Numba =  0.4547845329998381\n"
          ]
        }
      ]
    },
    {
      "cell_type": "markdown",
      "source": [
        "### Результат градиентного спуска"
      ],
      "metadata": {
        "id": "Sw9QzrUOIBPE"
      }
    },
    {
      "cell_type": "code",
      "source": [
        "stepsGD, x_resGD, y_resGD, resGD = GradL(MatyasFunc, GradMatyasFunc, x, y)\n",
        "print('\\nGradient descent X result = ' + str(x_resGD) + '\\n' + \n",
        "      'Gradient descent Y result = ' + str(y_resGD) + '\\n' + \n",
        "      'Gradient descent function result = ' + str(resGD) + '\\n' +\n",
        "      'Epochs = ' + str(stepsGD) + '\\n')"
      ],
      "metadata": {
        "colab": {
          "base_uri": "https://localhost:8080/"
        },
        "id": "DgU-mLk4GSKK",
        "outputId": "4af66450-6485-4615-ec73-dffcc9c29c95"
      },
      "execution_count": null,
      "outputs": [
        {
          "output_type": "stream",
          "name": "stdout",
          "text": [
            "\n",
            "Gradient descent X result = 0.05590078400204313\n",
            "Gradient descent Y result = 0.05590078400204313\n",
            "Gradient descent function result = 0.00012499590608172325\n",
            "Epochs = 7210\n",
            "\n"
          ]
        }
      ]
    },
    {
      "cell_type": "markdown",
      "source": [
        "### Функция МакКормика. Время выполнения без использования Numba"
      ],
      "metadata": {
        "id": "fo6Cr92TIC9O"
      }
    },
    {
      "cell_type": "code",
      "source": [
        "x, y = -1, 3"
      ],
      "metadata": {
        "id": "d9guCPcMGSTN"
      },
      "execution_count": null,
      "outputs": []
    },
    {
      "cell_type": "code",
      "source": [
        "setup_code = \"\"\"\n",
        "from __main__ import GradL, McCormickFunc, GradMcCormickFunc, x, y\n",
        "func = McCormickFunc\n",
        "g_func = GradMcCormickFunc\n",
        "theta0_i = x\n",
        "theta1_i = y\n",
        "\"\"\"\n",
        "print('Time without Numba = ', timeit.timeit(stmt = \"GradL(func, g_func, theta0_i, theta1_i)\", \n",
        "                                             setup = setup_code, \n",
        "                                             number = 1000))"
      ],
      "metadata": {
        "colab": {
          "base_uri": "https://localhost:8080/"
        },
        "id": "Nb498uNSGSbx",
        "outputId": "f302c565-cae6-48bb-d608-455966aa8010"
      },
      "execution_count": null,
      "outputs": [
        {
          "output_type": "stream",
          "name": "stdout",
          "text": [
            "Time without Numba =  5.479679747999853\n"
          ]
        }
      ]
    },
    {
      "cell_type": "markdown",
      "source": [
        "### Функция МакКормика. Время выполнения с использованием Numba"
      ],
      "metadata": {
        "id": "B-i_oI7zIEok"
      }
    },
    {
      "cell_type": "code",
      "source": [
        "#stepsGD, x_resGD, y_resGD, resGD = numba_GradL(numba_McCormickFunc, numba_GradMcCormickFunc, x, y)\n",
        "numba_setup_code = \"\"\"\n",
        "from __main__ import numba_GradL, numba_McCormickFunc, numba_GradMcCormickFunc, x, y\n",
        "func = numba_McCormickFunc\n",
        "g_func = numba_GradMcCormickFunc\n",
        "theta0_i = x\n",
        "theta1_i = y\n",
        "\"\"\"\n",
        "print('Time with Numba = ', timeit.timeit(stmt = \"numba_GradL(func, g_func, theta0_i, theta1_i)\", \n",
        "                                          setup = numba_setup_code, \n",
        "                                          number = 1000))"
      ],
      "metadata": {
        "colab": {
          "base_uri": "https://localhost:8080/"
        },
        "id": "T8xObuR-Gtxl",
        "outputId": "34af5b74-1252-4c02-8da2-64ff24d8bea7"
      },
      "execution_count": null,
      "outputs": [
        {
          "output_type": "stream",
          "name": "stdout",
          "text": [
            "Time with Numba =  0.6663919750001241\n"
          ]
        }
      ]
    },
    {
      "cell_type": "markdown",
      "source": [
        "### Результат градиентного спуска"
      ],
      "metadata": {
        "id": "zto6W7GYIFYF"
      }
    },
    {
      "cell_type": "code",
      "source": [
        "x_real = -0.54719\n",
        "y_real = -1.54719\n",
        "f_real = -1.91333"
      ],
      "metadata": {
        "id": "5nkEIgxsiqbI"
      },
      "execution_count": null,
      "outputs": []
    },
    {
      "cell_type": "code",
      "source": [
        "stepsGD, x_resGD, y_resGD, resGD = GradL(McCormickFunc, GradMcCormickFunc, x, y)\n",
        "print('\\nGradient descent X result = ' + str(x_resGD) + '\\n' + \n",
        "      'Gradient descent Y result = ' + str(y_resGD) + '\\n' + \n",
        "      'Gradient descent function result = ' + str(resGD) + '\\n' +\n",
        "      'Epochs = ' + str(stepsGD) + '\\n')\n",
        "\n",
        "diff_x = abs(x_real - x_resGD)\n",
        "diff_y = abs(y_real - y_resGD)\n",
        "diff_f = abs(f_real - resGD)\n",
        "print('Diffrence X result = ' + str(diff_x) + '\\n' +\n",
        "      'Diffrence Y result = ' + str(diff_y) + '\\n' +\n",
        "      'Diffrence function result = ' + str(diff_f) + '\\n')"
      ],
      "metadata": {
        "colab": {
          "base_uri": "https://localhost:8080/"
        },
        "id": "4eJBEldvGt6v",
        "outputId": "c56c15ff-76d7-4c55-bbf2-9687005cd734"
      },
      "execution_count": null,
      "outputs": [
        {
          "output_type": "stream",
          "name": "stdout",
          "text": [
            "\n",
            "Gradient descent X result = -0.5459181709433332\n",
            "Gradient descent Y result = -1.5459181698095743\n",
            "Gradient descent function result = -1.9132201185392779\n",
            "Epochs = 545\n",
            "\n",
            "Diffrence X result = 0.0012718290566667845\n",
            "Diffrence Y result = 0.00127183019042576\n",
            "Diffrence function result = 0.00010988146072210547\n",
            "\n"
          ]
        }
      ]
    }
  ]
}